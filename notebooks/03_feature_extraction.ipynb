{
 "cells": [
  {
   "cell_type": "markdown",
   "id": "269634c5",
   "metadata": {},
   "source": [
    "# Feature extraction"
   ]
  },
  {
   "cell_type": "code",
   "execution_count": 1,
   "id": "357649af",
   "metadata": {},
   "outputs": [],
   "source": [
    "%load_ext autoreload\n",
    "%autoreload 2"
   ]
  },
  {
   "cell_type": "code",
   "execution_count": 2,
   "id": "78390a97",
   "metadata": {},
   "outputs": [],
   "source": [
    "import sys\n",
    "sys.path.append('../')\n",
    "\n",
    "import utils.feature_extraction_helpers as feh\n",
    "import matplotlib.pyplot as plt\n",
    "import geopandas as gpd\n",
    "import pandas as pd\n",
    "import numpy as np\n",
    "import rasterio\n",
    "\n",
    "# Set paths\n",
    "data_dir = '../data/preprocessed/sentinel'\n",
    "aoi_path = '../utils/AOI_bboxes/aoi_shifa.geojson'"
   ]
  },
  {
   "cell_type": "code",
   "execution_count": 35,
   "id": "a219c199",
   "metadata": {},
   "outputs": [
    {
     "name": "stdout",
     "output_type": "stream",
     "text": [
      "File metadata:\n",
      "Width x Height: 1016 x 960 pixels\n",
      "Resolution: (8.983152841195215e-05, 8.983152841195215e-05) (degrees per pixel)\n",
      "CRS: EPSG:4326\n",
      "Transform: | 0.00, 0.00, 34.41|\n",
      "| 0.00,-0.00, 31.56|\n",
      "| 0.00, 0.00, 1.00|\n",
      "\n",
      "Data statistics:\n",
      "Valid pixels: 975360 of 975360 (100.0%)\n",
      "Min: -70.000, Max: 10.965\n",
      "Mean: -34.221, Median: -17.555\n",
      "\n",
      "Resolution check:\n",
      "Resolution in meters (approximate): 10.00 m\n",
      "Is this close to 10m? Yes\n"
     ]
    }
   ],
   "source": [
    "# Let's check what is inside a tif file\n",
    "# Path to the TIF file\n",
    "tif_path = '../data/preprocessed/sentinel/20221005/20221005_sigma0_vh_db.tif'\n",
    "\n",
    "with rasterio.open(tif_path) as src:\n",
    "    # Read the data\n",
    "    data = src.read(1)  # Read first band\n",
    "    \n",
    "    # Get metadata\n",
    "    print(f\"File metadata:\")\n",
    "    print(f\"Width x Height: {src.width} x {src.height} pixels\")\n",
    "    print(f\"Resolution: {src.res} (degrees per pixel)\")\n",
    "    print(f\"CRS: {src.crs}\")\n",
    "    print(f\"Transform: {src.transform}\")\n",
    "    \n",
    "    # Data statistics\n",
    "    valid_data = data[~np.isnan(data)]\n",
    "    print(f\"\\nData statistics:\")\n",
    "    print(f\"Valid pixels: {len(valid_data)} of {data.size} ({len(valid_data)/data.size*100:.1f}%)\")\n",
    "    print(f\"Min: {np.nanmin(data):.3f}, Max: {np.nanmax(data):.3f}\")\n",
    "    print(f\"Mean: {np.nanmean(data):.3f}, Median: {np.nanmedian(data):.3f}\")\n",
    "    \n",
    "    # Plot the data\n",
    "    plt.figure(figsize=(10, 10))\n",
    "    plt.imshow(data, cmap='viridis')\n",
    "    plt.colorbar(label='Backscatter (dB)')\n",
    "    plt.title('Sentinel-1 VH Backscatter (2022-10-05)')\n",
    "    plt.tight_layout()\n",
    "    plt.savefig('backscatter_visualization.png')\n",
    "    plt.close()\n",
    "    \n",
    "    # Display a histogram\n",
    "    plt.figure(figsize=(10, 6))\n",
    "    plt.hist(valid_data, bins=50, alpha=0.7)\n",
    "    plt.title('Backscatter Distribution')\n",
    "    plt.xlabel('Backscatter (dB)')\n",
    "    plt.ylabel('Frequency')\n",
    "    plt.grid(True, alpha=0.3)\n",
    "    plt.savefig('backscatter_histogram.png')\n",
    "    plt.close()\n",
    "    \n",
    "    # Check if the resolution aligns with expected 10m Sentinel-1 resolution\n",
    "    # Convert resolution to meters (approximately)\n",
    "    res_in_meters = src.res[0] * 111320  # Approximate conversion at equator\n",
    "    print(f\"\\nResolution check:\")\n",
    "    print(f\"Resolution in meters (approximate): {res_in_meters:.2f} m\")\n",
    "    print(f\"Is this close to 10m? {'Yes' if 9 <= res_in_meters <= 11 else 'No'}\")"
   ]
  },
  {
   "cell_type": "code",
   "execution_count": 4,
   "id": "aa16f6a9",
   "metadata": {},
   "outputs": [
    {
     "name": "stdout",
     "output_type": "stream",
     "text": [
      "Found 32 reference dates and 21 post-conflict dates\n",
      "Determined orbit directions based on acquisition patterns\n",
      "Processing reference dates...\n"
     ]
    },
    {
     "data": {
      "application/vnd.jupyter.widget-view+json": {
       "model_id": "94fe2ebdb87b4dbeac459e3561d1973e",
       "version_major": 2,
       "version_minor": 0
      },
      "text/plain": [
       "  0%|          | 0/32 [00:00<?, ?it/s]"
      ]
     },
     "metadata": {},
     "output_type": "display_data"
    },
    {
     "name": "stdout",
     "output_type": "stream",
     "text": [
      "Processing post-conflict dates...\n"
     ]
    },
    {
     "data": {
      "application/vnd.jupyter.widget-view+json": {
       "model_id": "e12ced6dfd0e441297e8b02f4ca37ab2",
       "version_major": 2,
       "version_minor": 0
      },
      "text/plain": [
       "  0%|          | 0/21 [00:00<?, ?it/s]"
      ]
     },
     "metadata": {},
     "output_type": "display_data"
    },
    {
     "name": "stdout",
     "output_type": "stream",
     "text": [
      "Combining all data...\n",
      "Total records: 37832684\n",
      "Unique pixels: 365108\n",
      "\n",
      "Orbit distribution:\n",
      "  DESC: 18916354 observations (50.0%)\n",
      "  ASC: 18916330 observations (50.0%)\n"
     ]
    }
   ],
   "source": [
    "# COLLECT BACKSCATTER VALUES\n",
    "# Use sample_rate < 1.0 for faster processing during development\n",
    "all_backscatter = feh.collect_all_backscatter_values_optimized(data_dir, aoi_path=aoi_path, sample_rate=1)\n",
    "\n",
    "all_backscatter.drop(columns='geometry').to_feather('../data/preprocessed/all_backscatter.feather')"
   ]
  },
  {
   "cell_type": "code",
   "execution_count": null,
   "id": "788f0192",
   "metadata": {},
   "outputs": [],
   "source": [
    "# LOAD BACKSCATTER VALUES\n",
    "from shapely.geometry import Point\n",
    "\n",
    "all_backscatter_loaded = pd.read_feather('../data/preprocessed/all_backscatter.feather')\n",
    "\n",
    "all_backscatter = gpd.GeoDataFrame(\n",
    "    all_backscatter_loaded, \n",
    "    geometry=[Point(xy) for xy in zip(all_backscatter_loaded.lon, all_backscatter_loaded.lat)], \n",
    "    crs=\"EPSG:4326\"\n",
    ")"
   ]
  },
  {
   "cell_type": "code",
   "execution_count": 5,
   "id": "a303bf26",
   "metadata": {},
   "outputs": [
    {
     "data": {
      "text/html": [
       "<div>\n",
       "<style scoped>\n",
       "    .dataframe tbody tr th:only-of-type {\n",
       "        vertical-align: middle;\n",
       "    }\n",
       "\n",
       "    .dataframe tbody tr th {\n",
       "        vertical-align: top;\n",
       "    }\n",
       "\n",
       "    .dataframe thead th {\n",
       "        text-align: right;\n",
       "    }\n",
       "</style>\n",
       "<table border=\"1\" class=\"dataframe\">\n",
       "  <thead>\n",
       "    <tr style=\"text-align: right;\">\n",
       "      <th></th>\n",
       "      <th>row</th>\n",
       "      <th>col</th>\n",
       "      <th>lon</th>\n",
       "      <th>lat</th>\n",
       "      <th>backscatter</th>\n",
       "      <th>date_str</th>\n",
       "      <th>backscatter_date</th>\n",
       "      <th>polarization</th>\n",
       "      <th>orbit</th>\n",
       "      <th>period</th>\n",
       "      <th>pixel_id</th>\n",
       "      <th>geometry</th>\n",
       "    </tr>\n",
       "  </thead>\n",
       "  <tbody>\n",
       "    <tr>\n",
       "      <th>0</th>\n",
       "      <td>0</td>\n",
       "      <td>402</td>\n",
       "      <td>34.457964</td>\n",
       "      <td>31.551195</td>\n",
       "      <td>-70.000000</td>\n",
       "      <td>20221005</td>\n",
       "      <td>2022-10-05</td>\n",
       "      <td>VV</td>\n",
       "      <td>ASC</td>\n",
       "      <td>reference</td>\n",
       "      <td>0_402</td>\n",
       "      <td>POINT (34.45796 31.55119)</td>\n",
       "    </tr>\n",
       "    <tr>\n",
       "      <th>1</th>\n",
       "      <td>0</td>\n",
       "      <td>403</td>\n",
       "      <td>34.458054</td>\n",
       "      <td>31.551195</td>\n",
       "      <td>-70.000000</td>\n",
       "      <td>20221005</td>\n",
       "      <td>2022-10-05</td>\n",
       "      <td>VV</td>\n",
       "      <td>ASC</td>\n",
       "      <td>reference</td>\n",
       "      <td>0_403</td>\n",
       "      <td>POINT (34.45805 31.55119)</td>\n",
       "    </tr>\n",
       "    <tr>\n",
       "      <th>2</th>\n",
       "      <td>1</td>\n",
       "      <td>401</td>\n",
       "      <td>34.457874</td>\n",
       "      <td>31.551105</td>\n",
       "      <td>-16.434464</td>\n",
       "      <td>20221005</td>\n",
       "      <td>2022-10-05</td>\n",
       "      <td>VV</td>\n",
       "      <td>ASC</td>\n",
       "      <td>reference</td>\n",
       "      <td>1_401</td>\n",
       "      <td>POINT (34.45787 31.55111)</td>\n",
       "    </tr>\n",
       "    <tr>\n",
       "      <th>3</th>\n",
       "      <td>1</td>\n",
       "      <td>402</td>\n",
       "      <td>34.457964</td>\n",
       "      <td>31.551105</td>\n",
       "      <td>-16.049759</td>\n",
       "      <td>20221005</td>\n",
       "      <td>2022-10-05</td>\n",
       "      <td>VV</td>\n",
       "      <td>ASC</td>\n",
       "      <td>reference</td>\n",
       "      <td>1_402</td>\n",
       "      <td>POINT (34.45796 31.55111)</td>\n",
       "    </tr>\n",
       "    <tr>\n",
       "      <th>4</th>\n",
       "      <td>1</td>\n",
       "      <td>403</td>\n",
       "      <td>34.458054</td>\n",
       "      <td>31.551105</td>\n",
       "      <td>-11.748380</td>\n",
       "      <td>20221005</td>\n",
       "      <td>2022-10-05</td>\n",
       "      <td>VV</td>\n",
       "      <td>ASC</td>\n",
       "      <td>reference</td>\n",
       "      <td>1_403</td>\n",
       "      <td>POINT (34.45805 31.55111)</td>\n",
       "    </tr>\n",
       "  </tbody>\n",
       "</table>\n",
       "</div>"
      ],
      "text/plain": [
       "   row  col        lon        lat  backscatter  date_str backscatter_date  \\\n",
       "0    0  402  34.457964  31.551195   -70.000000  20221005       2022-10-05   \n",
       "1    0  403  34.458054  31.551195   -70.000000  20221005       2022-10-05   \n",
       "2    1  401  34.457874  31.551105   -16.434464  20221005       2022-10-05   \n",
       "3    1  402  34.457964  31.551105   -16.049759  20221005       2022-10-05   \n",
       "4    1  403  34.458054  31.551105   -11.748380  20221005       2022-10-05   \n",
       "\n",
       "  polarization orbit     period pixel_id                   geometry  \n",
       "0           VV   ASC  reference    0_402  POINT (34.45796 31.55119)  \n",
       "1           VV   ASC  reference    0_403  POINT (34.45805 31.55119)  \n",
       "2           VV   ASC  reference    1_401  POINT (34.45787 31.55111)  \n",
       "3           VV   ASC  reference    1_402  POINT (34.45796 31.55111)  \n",
       "4           VV   ASC  reference    1_403  POINT (34.45805 31.55111)  "
      ]
     },
     "execution_count": 5,
     "metadata": {},
     "output_type": "execute_result"
    }
   ],
   "source": [
    "all_backscatter.head()"
   ]
  },
  {
   "cell_type": "markdown",
   "id": "5afb05c7",
   "metadata": {},
   "source": [
    "Let's conduct some sanity checks on these backscatter values"
   ]
  },
  {
   "cell_type": "code",
   "execution_count": 6,
   "id": "2470fa42",
   "metadata": {},
   "outputs": [
    {
     "data": {
      "text/plain": [
       "<matplotlib.legend.Legend at 0x6502124d0>"
      ]
     },
     "execution_count": 6,
     "metadata": {},
     "output_type": "execute_result"
    },
    {
     "data": {
      "image/png": "[encoded data removed]",
      "text/plain": [
       "<Figure size 640x480 with 1 Axes>"
      ]
     },
     "metadata": {},
     "output_type": "display_data"
    }
   ],
   "source": [
    "# Check temporal coverage per pixel\n",
    "# There should be 64 (32x2) reference values and 42 (21x2) post values \n",
    "pixel_coverage = all_backscatter.groupby(['pixel_id', 'period']).size().unstack(fill_value=0)\n",
    "\n",
    "# Distribution of pixel coverage per period\n",
    "pixel_coverage['reference'].hist(bins=20, alpha=0.5, label='reference')\n",
    "pixel_coverage['post'].hist(bins=20, alpha=0.5, label='post')\n",
    "plt.xlabel('Number of observations')\n",
    "plt.ylabel('Number of pixels')\n",
    "plt.title('Distribution of pixel coverage per period')\n",
    "plt.legend()"
   ]
  },
  {
   "cell_type": "code",
   "execution_count": null,
   "id": "69f50247",
   "metadata": {},
   "outputs": [],
   "source": [
    "# Check the spatial distribution of observation counts\n",
    "pixel_counts = all_backscatter.groupby('pixel_id').size()"
   ]
  },
  {
   "cell_type": "code",
   "execution_count": 8,
   "id": "9aa91275",
   "metadata": {},
   "outputs": [
    {
     "data": {
      "image/png": "[encoded data removed]",
      "text/plain": [
       "<Figure size 640x480 with 1 Axes>"
      ]
     },
     "metadata": {},
     "output_type": "display_data"
    }
   ],
   "source": [
    "# Distribution of pixel counts\n",
    "pixel_counts.hist(bins=20)\n",
    "plt.xlabel('Number of observations')\n",
    "plt.ylabel('Number of pixels')\n",
    "plt.title('Distribution of pixel counts')\n",
    "plt.show()"
   ]
  },
  {
   "cell_type": "code",
   "execution_count": 9,
   "id": "6a965ac6",
   "metadata": {},
   "outputs": [],
   "source": [
    "# Load labelled data points (data/processed/combined_damage_control_points.gpkg)\n",
    "labelled_data = gpd.read_file('../data/processed/labels/combined_damage_control_points.gpkg')"
   ]
  },
  {
   "cell_type": "code",
   "execution_count": 18,
   "id": "6a65fea3",
   "metadata": {},
   "outputs": [
    {
     "name": "stdout",
     "output_type": "stream",
     "text": [
      "Index(['SiteID', 'date', 'damage_class', 'damage_status', 'Governorate',\n",
      "       'Municipality', 'Neighborhood', 'damage_class_desc', 'is_damaged',\n",
      "       'damage_level', 'lon', 'lat', 'index_right', 'system:index', 'area',\n",
      "       'building', 'class', 'damage_pts', 'k100', 'k150', 'k50', 'max_change',\n",
      "       'name', 'osm_id', 'osm_type', '.geo', 'geometry'],\n",
      "      dtype='object')\n"
     ]
    },
    {
     "data": {
      "text/html": [
       "<div>\n",
       "<style scoped>\n",
       "    .dataframe tbody tr th:only-of-type {\n",
       "        vertical-align: middle;\n",
       "    }\n",
       "\n",
       "    .dataframe tbody tr th {\n",
       "        vertical-align: top;\n",
       "    }\n",
       "\n",
       "    .dataframe thead th {\n",
       "        text-align: right;\n",
       "    }\n",
       "</style>\n",
       "<table border=\"1\" class=\"dataframe\">\n",
       "  <thead>\n",
       "    <tr style=\"text-align: right;\">\n",
       "      <th></th>\n",
       "      <th>SiteID</th>\n",
       "      <th>date</th>\n",
       "      <th>damage_class</th>\n",
       "      <th>damage_status</th>\n",
       "      <th>Governorate</th>\n",
       "      <th>Municipality</th>\n",
       "      <th>Neighborhood</th>\n",
       "      <th>damage_class_desc</th>\n",
       "      <th>is_damaged</th>\n",
       "      <th>damage_level</th>\n",
       "      <th>...</th>\n",
       "      <th>damage_pts</th>\n",
       "      <th>k100</th>\n",
       "      <th>k150</th>\n",
       "      <th>k50</th>\n",
       "      <th>max_change</th>\n",
       "      <th>name</th>\n",
       "      <th>osm_id</th>\n",
       "      <th>osm_type</th>\n",
       "      <th>.geo</th>\n",
       "      <th>geometry</th>\n",
       "    </tr>\n",
       "  </thead>\n",
       "  <tbody>\n",
       "    <tr>\n",
       "      <th>0</th>\n",
       "      <td>26.0</td>\n",
       "      <td>2023-11-26 00:00:00+00:00</td>\n",
       "      <td>1.0</td>\n",
       "      <td>0.0</td>\n",
       "      <td>North Gaza</td>\n",
       "      <td>Jabalya</td>\n",
       "      <td>Ar Rawdah</td>\n",
       "      <td>Destroyed</td>\n",
       "      <td>1</td>\n",
       "      <td>3.0</td>\n",
       "      <td>...</td>\n",
       "      <td>NaN</td>\n",
       "      <td>NaN</td>\n",
       "      <td>NaN</td>\n",
       "      <td>NaN</td>\n",
       "      <td>NaN</td>\n",
       "      <td>None</td>\n",
       "      <td>NaN</td>\n",
       "      <td>None</td>\n",
       "      <td>None</td>\n",
       "      <td>POINT Z (34.48112 31.51958 0)</td>\n",
       "    </tr>\n",
       "    <tr>\n",
       "      <th>1</th>\n",
       "      <td>26.0</td>\n",
       "      <td>2023-11-26 00:00:00+00:00</td>\n",
       "      <td>2.0</td>\n",
       "      <td>0.0</td>\n",
       "      <td>North Gaza</td>\n",
       "      <td>Jabalya</td>\n",
       "      <td>Ar Rawdah</td>\n",
       "      <td>Severe Damage</td>\n",
       "      <td>1</td>\n",
       "      <td>2.0</td>\n",
       "      <td>...</td>\n",
       "      <td>NaN</td>\n",
       "      <td>NaN</td>\n",
       "      <td>NaN</td>\n",
       "      <td>NaN</td>\n",
       "      <td>NaN</td>\n",
       "      <td>None</td>\n",
       "      <td>NaN</td>\n",
       "      <td>None</td>\n",
       "      <td>None</td>\n",
       "      <td>POINT Z (34.48139 31.51968 0)</td>\n",
       "    </tr>\n",
       "    <tr>\n",
       "      <th>2</th>\n",
       "      <td>26.0</td>\n",
       "      <td>2023-11-26 00:00:00+00:00</td>\n",
       "      <td>2.0</td>\n",
       "      <td>0.0</td>\n",
       "      <td>North Gaza</td>\n",
       "      <td>Jabalya</td>\n",
       "      <td>Ar Rawdah</td>\n",
       "      <td>Severe Damage</td>\n",
       "      <td>1</td>\n",
       "      <td>2.0</td>\n",
       "      <td>...</td>\n",
       "      <td>NaN</td>\n",
       "      <td>NaN</td>\n",
       "      <td>NaN</td>\n",
       "      <td>NaN</td>\n",
       "      <td>NaN</td>\n",
       "      <td>None</td>\n",
       "      <td>NaN</td>\n",
       "      <td>None</td>\n",
       "      <td>None</td>\n",
       "      <td>POINT Z (34.48091 31.5196 0)</td>\n",
       "    </tr>\n",
       "    <tr>\n",
       "      <th>3</th>\n",
       "      <td>26.0</td>\n",
       "      <td>2023-11-26 00:00:00+00:00</td>\n",
       "      <td>2.0</td>\n",
       "      <td>0.0</td>\n",
       "      <td>North Gaza</td>\n",
       "      <td>Jabalya</td>\n",
       "      <td>Ar Rawdah</td>\n",
       "      <td>Severe Damage</td>\n",
       "      <td>1</td>\n",
       "      <td>2.0</td>\n",
       "      <td>...</td>\n",
       "      <td>NaN</td>\n",
       "      <td>NaN</td>\n",
       "      <td>NaN</td>\n",
       "      <td>NaN</td>\n",
       "      <td>NaN</td>\n",
       "      <td>None</td>\n",
       "      <td>NaN</td>\n",
       "      <td>None</td>\n",
       "      <td>None</td>\n",
       "      <td>POINT Z (34.48206 31.51882 0)</td>\n",
       "    </tr>\n",
       "    <tr>\n",
       "      <th>4</th>\n",
       "      <td>26.0</td>\n",
       "      <td>2023-11-26 00:00:00+00:00</td>\n",
       "      <td>2.0</td>\n",
       "      <td>0.0</td>\n",
       "      <td>North Gaza</td>\n",
       "      <td>Jabalya</td>\n",
       "      <td>Ar Rawdah</td>\n",
       "      <td>Severe Damage</td>\n",
       "      <td>1</td>\n",
       "      <td>2.0</td>\n",
       "      <td>...</td>\n",
       "      <td>NaN</td>\n",
       "      <td>NaN</td>\n",
       "      <td>NaN</td>\n",
       "      <td>NaN</td>\n",
       "      <td>NaN</td>\n",
       "      <td>None</td>\n",
       "      <td>NaN</td>\n",
       "      <td>None</td>\n",
       "      <td>None</td>\n",
       "      <td>POINT Z (34.48198 31.5187 0)</td>\n",
       "    </tr>\n",
       "  </tbody>\n",
       "</table>\n",
       "<p>5 rows × 27 columns</p>\n",
       "</div>"
      ],
      "text/plain": [
       "   SiteID                      date  damage_class  damage_status Governorate  \\\n",
       "0    26.0 2023-11-26 00:00:00+00:00           1.0            0.0  North Gaza   \n",
       "1    26.0 2023-11-26 00:00:00+00:00           2.0            0.0  North Gaza   \n",
       "2    26.0 2023-11-26 00:00:00+00:00           2.0            0.0  North Gaza   \n",
       "3    26.0 2023-11-26 00:00:00+00:00           2.0            0.0  North Gaza   \n",
       "4    26.0 2023-11-26 00:00:00+00:00           2.0            0.0  North Gaza   \n",
       "\n",
       "  Municipality Neighborhood damage_class_desc  is_damaged  damage_level  ...  \\\n",
       "0      Jabalya    Ar Rawdah         Destroyed           1           3.0  ...   \n",
       "1      Jabalya    Ar Rawdah     Severe Damage           1           2.0  ...   \n",
       "2      Jabalya    Ar Rawdah     Severe Damage           1           2.0  ...   \n",
       "3      Jabalya    Ar Rawdah     Severe Damage           1           2.0  ...   \n",
       "4      Jabalya    Ar Rawdah     Severe Damage           1           2.0  ...   \n",
       "\n",
       "   damage_pts  k100  k150 k50  max_change  name  osm_id  osm_type  .geo  \\\n",
       "0         NaN   NaN   NaN NaN         NaN  None     NaN      None  None   \n",
       "1         NaN   NaN   NaN NaN         NaN  None     NaN      None  None   \n",
       "2         NaN   NaN   NaN NaN         NaN  None     NaN      None  None   \n",
       "3         NaN   NaN   NaN NaN         NaN  None     NaN      None  None   \n",
       "4         NaN   NaN   NaN NaN         NaN  None     NaN      None  None   \n",
       "\n",
       "                        geometry  \n",
       "0  POINT Z (34.48112 31.51958 0)  \n",
       "1  POINT Z (34.48139 31.51968 0)  \n",
       "2   POINT Z (34.48091 31.5196 0)  \n",
       "3  POINT Z (34.48206 31.51882 0)  \n",
       "4   POINT Z (34.48198 31.5187 0)  \n",
       "\n",
       "[5 rows x 27 columns]"
      ]
     },
     "execution_count": 18,
     "metadata": {},
     "output_type": "execute_result"
    }
   ],
   "source": [
    "print(labelled_data.columns)\n",
    "labelled_data.head()"
   ]
  },
  {
   "cell_type": "code",
   "execution_count": 19,
   "id": "f63b87c8",
   "metadata": {},
   "outputs": [],
   "source": [
    "def check_point_pixel_relationship(points_gdf, backscatter_gdf, buffer_distances=[0, 1, 5, 10]):\n",
    "    \"\"\"\n",
    "    Check how many backscatter pixels are captured at different buffer distances\n",
    "    \n",
    "    Parameters:\n",
    "    -----------\n",
    "    points_gdf : GeoDataFrame\n",
    "        Labeled points\n",
    "    backscatter_gdf : GeoDataFrame\n",
    "        Backscatter pixels\n",
    "    buffer_distances : list\n",
    "        Buffer distances to test in meters\n",
    "        \n",
    "    Returns:\n",
    "    --------\n",
    "    DataFrame with statistics for each buffer distance\n",
    "    \"\"\"\n",
    "    from tqdm.notebook import tqdm\n",
    "    import numpy as np\n",
    "    import pandas as pd\n",
    "    \n",
    "    # Ensure spatial index exists for fast querying\n",
    "    if not hasattr(backscatter_gdf, 'sindex') or backscatter_gdf.sindex is None:\n",
    "        print(\"Creating spatial index for faster querying...\")\n",
    "        backscatter_gdf = backscatter_gdf.copy()\n",
    "        backscatter_gdf.sindex  # This creates the spatial index\n",
    "    \n",
    "    results = []\n",
    "    \n",
    "    # Use a single date/polarization subset for faster processing\n",
    "    sample_date = backscatter_gdf['backscatter_date'].unique()[0]\n",
    "    sample_pol = backscatter_gdf['polarization'].unique()[0]\n",
    "    sample_backscatter = backscatter_gdf[\n",
    "        (backscatter_gdf['backscatter_date'] == sample_date) & \n",
    "        (backscatter_gdf['polarization'] == sample_pol)\n",
    "    ]\n",
    "    \n",
    "    print(f\"Using sample date {sample_date} and polarization {sample_pol} for analysis\")\n",
    "    \n",
    "    # Convert points to appropriate CRS once\n",
    "    if points_gdf.crs.is_geographic and sample_backscatter.crs.is_geographic:\n",
    "        points_utm = points_gdf.to_crs(\"EPSG:32636\")  # UTM zone 36N\n",
    "    else:\n",
    "        points_utm = points_gdf.to_crs(sample_backscatter.crs)\n",
    "    \n",
    "    for buffer_distance in buffer_distances:\n",
    "        print(f\"Testing buffer distance: {buffer_distance}m\")\n",
    "        \n",
    "        # Create buffers efficiently\n",
    "        buffered = points_utm.copy()\n",
    "        buffered['geometry'] = points_utm.geometry.buffer(buffer_distance)\n",
    "        \n",
    "        # Convert back to original CRS if needed\n",
    "        if points_gdf.crs.is_geographic and sample_backscatter.crs.is_geographic:\n",
    "            buffered = buffered.to_crs(sample_backscatter.crs)\n",
    "        \n",
    "        # Count pixels within each buffer\n",
    "        pixel_counts = []\n",
    "        \n",
    "        # Process in batches for better memory management\n",
    "        batch_size = 100\n",
    "        for i in tqdm(range(0, len(buffered), batch_size), desc=f\"Buffer {buffer_distance}m\"):\n",
    "            batch = buffered.iloc[i:i+batch_size]\n",
    "            \n",
    "            for idx, point in batch.iterrows():\n",
    "                # Use spatial index for faster querying\n",
    "                possible_matches_idx = list(sample_backscatter.sindex.intersection(point.geometry.bounds))\n",
    "                if possible_matches_idx:\n",
    "                    possible_matches = sample_backscatter.iloc[possible_matches_idx]\n",
    "                    pixels = possible_matches[possible_matches.intersects(point.geometry)]\n",
    "                    \n",
    "                    # Count unique pixels\n",
    "                    unique_pixels = pixels['pixel_id'].nunique()\n",
    "                    pixel_counts.append(unique_pixels)\n",
    "                else:\n",
    "                    pixel_counts.append(0)\n",
    "        \n",
    "        # Calculate statistics\n",
    "        stats = {\n",
    "            'buffer_distance': buffer_distance,\n",
    "            'avg_pixels': np.mean(pixel_counts),\n",
    "            'median_pixels': np.median(pixel_counts),\n",
    "            'min_pixels': np.min(pixel_counts),\n",
    "            'max_pixels': np.max(pixel_counts),\n",
    "            'points_with_no_pixels': sum(count == 0 for count in pixel_counts),\n",
    "            'points_with_one_pixel': sum(count == 1 for count in pixel_counts),\n",
    "            'points_with_multiple_pixels': sum(count > 1 for count in pixel_counts),\n",
    "            'total_points': len(pixel_counts)\n",
    "        }\n",
    "        \n",
    "        # Calculate percentages\n",
    "        stats['percent_with_no_pixels'] = (stats['points_with_no_pixels'] / stats['total_points']) * 100\n",
    "        stats['percent_with_one_pixel'] = (stats['points_with_one_pixel'] / stats['total_points']) * 100\n",
    "        stats['percent_with_multiple_pixels'] = (stats['points_with_multiple_pixels'] / stats['total_points']) * 100\n",
    "        \n",
    "        results.append(stats)\n",
    "        \n",
    "        # Print interim results\n",
    "        print(f\"  Average pixels per point: {stats['avg_pixels']:.2f}\")\n",
    "        print(f\"  Points with one pixel: {stats['points_with_one_pixel']} ({stats['percent_with_one_pixel']:.1f}%)\")\n",
    "        print(f\"  Points with multiple pixels: {stats['points_with_multiple_pixels']} ({stats['percent_with_multiple_pixels']:.1f}%)\")\n",
    "    \n",
    "    result_df = pd.DataFrame(results)\n",
    "    \n",
    "    # Create a visualization of the results\n",
    "    try:\n",
    "        import matplotlib.pyplot as plt\n",
    "        \n",
    "        plt.figure(figsize=(12, 6))\n",
    "        \n",
    "        categories = ['points_with_no_pixels', 'points_with_one_pixel', 'points_with_multiple_pixels']\n",
    "        labels = ['No pixels', 'One pixel', 'Multiple pixels']\n",
    "        colors = ['red', 'green', 'blue']\n",
    "        \n",
    "        for i, (category, label, color) in enumerate(zip(categories, labels, colors)):\n",
    "            plt.bar(\n",
    "                x=np.arange(len(buffer_distances)) + (i - 1) * 0.25, \n",
    "                height=result_df[category] / result_df['total_points'] * 100,\n",
    "                width=0.25,\n",
    "                color=color,\n",
    "                label=label\n",
    "            )\n",
    "        \n",
    "        plt.xlabel('Buffer Distance (m)')\n",
    "        plt.ylabel('Percentage of Points (%)')\n",
    "        plt.title('Pixel Coverage by Buffer Distance')\n",
    "        plt.xticks(np.arange(len(buffer_distances)), buffer_distances)\n",
    "        plt.legend()\n",
    "        plt.grid(axis='y', alpha=0.3)\n",
    "        plt.tight_layout()\n",
    "        plt.show()\n",
    "    except:\n",
    "        print(\"Could not create visualization. Check if matplotlib is installed.\")\n",
    "    \n",
    "    return result_df"
   ]
  },
  {
   "cell_type": "code",
   "execution_count": 20,
   "id": "cf73d101",
   "metadata": {},
   "outputs": [
    {
     "name": "stdout",
     "output_type": "stream",
     "text": [
      "Using sample date 2022-10-05 00:00:00 and polarization VV for analysis\n",
      "Testing buffer distance: 0m\n"
     ]
    },
    {
     "data": {
      "application/vnd.jupyter.widget-view+json": {
       "model_id": "7bcc0614e35c447b8bc7d76abd518be7",
       "version_major": 2,
       "version_minor": 0
      },
      "text/plain": [
       "Buffer 0m:   0%|          | 0/85 [00:00<?, ?it/s]"
      ]
     },
     "metadata": {},
     "output_type": "display_data"
    },
    {
     "name": "stdout",
     "output_type": "stream",
     "text": [
      "  Average pixels per point: 0.00\n",
      "  Points with one pixel: 0 (0.0%)\n",
      "  Points with multiple pixels: 0 (0.0%)\n",
      "Testing buffer distance: 1m\n"
     ]
    },
    {
     "data": {
      "application/vnd.jupyter.widget-view+json": {
       "model_id": "7ab753716e014da39243afcce6979d49",
       "version_major": 2,
       "version_minor": 0
      },
      "text/plain": [
       "Buffer 1m:   0%|          | 0/85 [00:00<?, ?it/s]"
      ]
     },
     "metadata": {},
     "output_type": "display_data"
    },
    {
     "name": "stdout",
     "output_type": "stream",
     "text": [
      "  Average pixels per point: 0.04\n",
      "  Points with one pixel: 330 (3.9%)\n",
      "  Points with multiple pixels: 0 (0.0%)\n",
      "Testing buffer distance: 5m\n"
     ]
    },
    {
     "data": {
      "application/vnd.jupyter.widget-view+json": {
       "model_id": "2556119a7aa64c5f80f8d98a76a14ddc",
       "version_major": 2,
       "version_minor": 0
      },
      "text/plain": [
       "Buffer 5m:   0%|          | 0/85 [00:00<?, ?it/s]"
      ]
     },
     "metadata": {},
     "output_type": "display_data"
    },
    {
     "name": "stdout",
     "output_type": "stream",
     "text": [
      "  Average pixels per point: 0.92\n",
      "  Points with one pixel: 6766 (80.1%)\n",
      "  Points with multiple pixels: 485 (5.7%)\n",
      "Testing buffer distance: 10m\n"
     ]
    },
    {
     "data": {
      "application/vnd.jupyter.widget-view+json": {
       "model_id": "71062c2ee3b24c84b08bbd2294bd47f5",
       "version_major": 2,
       "version_minor": 0
      },
      "text/plain": [
       "Buffer 10m:   0%|          | 0/85 [00:00<?, ?it/s]"
      ]
     },
     "metadata": {},
     "output_type": "display_data"
    },
    {
     "name": "stdout",
     "output_type": "stream",
     "text": [
      "  Average pixels per point: 3.70\n",
      "  Points with one pixel: 0 (0.0%)\n",
      "  Points with multiple pixels: 8448 (100.0%)\n"
     ]
    },
    {
     "data": {
      "image/png": "[encoded data removed]",
      "text/plain": [
       "<Figure size 1200x600 with 1 Axes>"
      ]
     },
     "metadata": {},
     "output_type": "display_data"
    },
    {
     "data": {
      "application/vnd.microsoft.datawrangler.viewer.v0+json": {
       "columns": [
        {
         "name": "index",
         "rawType": "int64",
         "type": "integer"
        },
        {
         "name": "buffer_distance",
         "rawType": "int64",
         "type": "integer"
        },
        {
         "name": "avg_pixels",
         "rawType": "float64",
         "type": "float"
        },
        {
         "name": "median_pixels",
         "rawType": "float64",
         "type": "float"
        },
        {
         "name": "min_pixels",
         "rawType": "int64",
         "type": "integer"
        },
        {
         "name": "max_pixels",
         "rawType": "int64",
         "type": "integer"
        },
        {
         "name": "points_with_no_pixels",
         "rawType": "int64",
         "type": "integer"
        },
        {
         "name": "points_with_one_pixel",
         "rawType": "int64",
         "type": "integer"
        },
        {
         "name": "points_with_multiple_pixels",
         "rawType": "int64",
         "type": "integer"
        },
        {
         "name": "total_points",
         "rawType": "int64",
         "type": "integer"
        },
        {
         "name": "percent_with_no_pixels",
         "rawType": "float64",
         "type": "float"
        },
        {
         "name": "percent_with_one_pixel",
         "rawType": "float64",
         "type": "float"
        },
        {
         "name": "percent_with_multiple_pixels",
         "rawType": "float64",
         "type": "float"
        }
       ],
       "conversionMethod": "pd.DataFrame",
       "ref": "6be490bd-0eb4-4182-b87e-66e04b212fd8",
       "rows": [
        [
         "0",
         "0",
         "0.0",
         "0.0",
         "0",
         "0",
         "8448",
         "0",
         "0",
         "8448",
         "100.0",
         "0.0",
         "0.0"
        ],
        [
         "1",
         "1",
         "0.0390625",
         "0.0",
         "0",
         "1",
         "8118",
         "330",
         "0",
         "8448",
         "96.09375",
         "3.90625",
         "0.0"
        ],
        [
         "2",
         "5",
         "0.915719696969697",
         "1.0",
         "0",
         "2",
         "1197",
         "6766",
         "485",
         "8448",
         "14.169034090909092",
         "80.08996212121212",
         "5.741003787878788"
        ],
        [
         "3",
         "10",
         "3.703006628787879",
         "4.0",
         "2",
         "6",
         "0",
         "0",
         "8448",
         "8448",
         "0.0",
         "0.0",
         "100.0"
        ]
       ],
       "shape": {
        "columns": 12,
        "rows": 4
       }
      },
      "text/html": [
       "<div>\n",
       "<style scoped>\n",
       "    .dataframe tbody tr th:only-of-type {\n",
       "        vertical-align: middle;\n",
       "    }\n",
       "\n",
       "    .dataframe tbody tr th {\n",
       "        vertical-align: top;\n",
       "    }\n",
       "\n",
       "    .dataframe thead th {\n",
       "        text-align: right;\n",
       "    }\n",
       "</style>\n",
       "<table border=\"1\" class=\"dataframe\">\n",
       "  <thead>\n",
       "    <tr style=\"text-align: right;\">\n",
       "      <th></th>\n",
       "      <th>buffer_distance</th>\n",
       "      <th>avg_pixels</th>\n",
       "      <th>median_pixels</th>\n",
       "      <th>min_pixels</th>\n",
       "      <th>max_pixels</th>\n",
       "      <th>points_with_no_pixels</th>\n",
       "      <th>points_with_one_pixel</th>\n",
       "      <th>points_with_multiple_pixels</th>\n",
       "      <th>total_points</th>\n",
       "      <th>percent_with_no_pixels</th>\n",
       "      <th>percent_with_one_pixel</th>\n",
       "      <th>percent_with_multiple_pixels</th>\n",
       "    </tr>\n",
       "  </thead>\n",
       "  <tbody>\n",
       "    <tr>\n",
       "      <th>0</th>\n",
       "      <td>0</td>\n",
       "      <td>0.000000</td>\n",
       "      <td>0.0</td>\n",
       "      <td>0</td>\n",
       "      <td>0</td>\n",
       "      <td>8448</td>\n",
       "      <td>0</td>\n",
       "      <td>0</td>\n",
       "      <td>8448</td>\n",
       "      <td>100.000000</td>\n",
       "      <td>0.000000</td>\n",
       "      <td>0.000000</td>\n",
       "    </tr>\n",
       "    <tr>\n",
       "      <th>1</th>\n",
       "      <td>1</td>\n",
       "      <td>0.039062</td>\n",
       "      <td>0.0</td>\n",
       "      <td>0</td>\n",
       "      <td>1</td>\n",
       "      <td>8118</td>\n",
       "      <td>330</td>\n",
       "      <td>0</td>\n",
       "      <td>8448</td>\n",
       "      <td>96.093750</td>\n",
       "      <td>3.906250</td>\n",
       "      <td>0.000000</td>\n",
       "    </tr>\n",
       "    <tr>\n",
       "      <th>2</th>\n",
       "      <td>5</td>\n",
       "      <td>0.915720</td>\n",
       "      <td>1.0</td>\n",
       "      <td>0</td>\n",
       "      <td>2</td>\n",
       "      <td>1197</td>\n",
       "      <td>6766</td>\n",
       "      <td>485</td>\n",
       "      <td>8448</td>\n",
       "      <td>14.169034</td>\n",
       "      <td>80.089962</td>\n",
       "      <td>5.741004</td>\n",
       "    </tr>\n",
       "    <tr>\n",
       "      <th>3</th>\n",
       "      <td>10</td>\n",
       "      <td>3.703007</td>\n",
       "      <td>4.0</td>\n",
       "      <td>2</td>\n",
       "      <td>6</td>\n",
       "      <td>0</td>\n",
       "      <td>0</td>\n",
       "      <td>8448</td>\n",
       "      <td>8448</td>\n",
       "      <td>0.000000</td>\n",
       "      <td>0.000000</td>\n",
       "      <td>100.000000</td>\n",
       "    </tr>\n",
       "  </tbody>\n",
       "</table>\n",
       "</div>"
      ],
      "text/plain": [
       "   buffer_distance  avg_pixels  median_pixels  min_pixels  max_pixels  \\\n",
       "0                0    0.000000            0.0           0           0   \n",
       "1                1    0.039062            0.0           0           1   \n",
       "2                5    0.915720            1.0           0           2   \n",
       "3               10    3.703007            4.0           2           6   \n",
       "\n",
       "   points_with_no_pixels  points_with_one_pixel  points_with_multiple_pixels  \\\n",
       "0                   8448                      0                            0   \n",
       "1                   8118                    330                            0   \n",
       "2                   1197                   6766                          485   \n",
       "3                      0                      0                         8448   \n",
       "\n",
       "   total_points  percent_with_no_pixels  percent_with_one_pixel  \\\n",
       "0          8448              100.000000                0.000000   \n",
       "1          8448               96.093750                3.906250   \n",
       "2          8448               14.169034               80.089962   \n",
       "3          8448                0.000000                0.000000   \n",
       "\n",
       "   percent_with_multiple_pixels  \n",
       "0                      0.000000  \n",
       "1                      0.000000  \n",
       "2                      5.741004  \n",
       "3                    100.000000  "
      ]
     },
     "execution_count": 20,
     "metadata": {},
     "output_type": "execute_result"
    }
   ],
   "source": [
    "check_point_pixel_relationship(labelled_data, all_backscatter, buffer_distances=[0, 1, 5, 10])"
   ]
  },
  {
   "cell_type": "markdown",
   "id": "5032f59b",
   "metadata": {},
   "source": [
    "Some observations:\n",
    "- At 0m buffer: Almost 100% of points have no pixels. This means virtually none of labeled points perfectly coincide with Sentinel-1 pixel centers.\n",
    "- At 1m buffer: Still about 95% of points have no pixels, with only about 5% having one pixel. This suggests significant geolocation differences between labels and the Sentinel-1 pixel grid.\n",
    "- At 5m buffer: The situation improves dramatically - about 80% of points capture one pixel, with about 15% still having no pixels and 5% capturing multiple pixels.\n",
    "- At 10m buffer: Almost 100% of points now capture multiple pixels, with only a tiny fraction capturing just one pixel."
   ]
  },
  {
   "cell_type": "code",
   "execution_count": 21,
   "id": "956e5305",
   "metadata": {},
   "outputs": [
    {
     "name": "stdout",
     "output_type": "stream",
     "text": [
      "Extracting time series for 8448 points with 5m buffer...\n",
      "Converting points to match backscatter CRS: GEOGCS[\"WGS 84\",DATUM[\"WGS_1984\",SPHEROID[\"WGS 84\",6378137,298.257223563,AUTHORITY[\"EPSG\",\"7030\"]],AUTHORITY[\"EPSG\",\"6326\"]],PRIMEM[\"Greenwich\",0,AUTHORITY[\"EPSG\",\"8901\"]],UNIT[\"degree\",0.0174532925199433,AUTHORITY[\"EPSG\",\"9122\"]],AXIS[\"Latitude\",NORTH],AXIS[\"Longitude\",EAST],AUTHORITY[\"EPSG\",\"4326\"]]\n"
     ]
    },
    {
     "data": {
      "application/vnd.jupyter.widget-view+json": {
       "model_id": "b381ca55319d4ff6a4a6231b1e5e670e",
       "version_major": 2,
       "version_minor": 0
      },
      "text/plain": [
       "Extracting time series:   0%|          | 0/8448 [00:00<?, ?it/s]"
      ]
     },
     "metadata": {},
     "output_type": "display_data"
    },
    {
     "name": "stdout",
     "output_type": "stream",
     "text": [
      "Extracted 810782 time series points for 8448 labeled points\n",
      "Covering 26832 unique pixels\n",
      "\n",
      "Time series distribution by polarization and orbit:\n",
      "orbit            ASC    DESC\n",
      "polarization                \n",
      "VH            202369  203022\n",
      "VV            202369  203022\n"
     ]
    }
   ],
   "source": [
    "# Extract time series for each labeled point\n",
    "timeseries = feh.extract_pixel_timeseries(\n",
    "    labeled_points=labelled_data,\n",
    "    backscatter_data=all_backscatter,\n",
    "    buffer_distance=5\n",
    ")"
   ]
  },
  {
   "cell_type": "code",
   "execution_count": 22,
   "id": "a854d390",
   "metadata": {},
   "outputs": [
    {
     "data": {
      "text/plain": [
       "Index(['point_id', 'pixel_id', 'backscatter_date', 'polarization', 'orbit',\n",
       "       'period', 'backscatter', 'point_lon', 'point_lat', 'pixel_lon',\n",
       "       'pixel_lat', 'SiteID', 'date', 'damage_class', 'damage_status',\n",
       "       'Governorate', 'Municipality', 'Neighborhood', 'damage_class_desc',\n",
       "       'is_damaged', 'damage_level', 'lon', 'lat', 'index_right',\n",
       "       'system:index', 'area', 'building', 'class', 'damage_pts', 'k100',\n",
       "       'k150', 'k50', 'max_change', 'name', 'osm_id', 'osm_type', '.geo'],\n",
       "      dtype='object')"
      ]
     },
     "execution_count": 22,
     "metadata": {},
     "output_type": "execute_result"
    }
   ],
   "source": [
    "timeseries.to_csv('../data/preprocessed/timeseries.csv', index=False)\n",
    "\n",
    "timeseries.columns"
   ]
  },
  {
   "cell_type": "code",
   "execution_count": 24,
   "id": "066168a4",
   "metadata": {},
   "outputs": [
    {
     "data": {
      "text/plain": [
       "Index(['point_id', 'pixel_id', 'backscatter_date', 'polarization', 'orbit',\n",
       "       'period', 'backscatter', 'point_lon', 'point_lat', 'pixel_lon',\n",
       "       'pixel_lat', 'SiteID', 'date', 'damage_class', 'damage_status',\n",
       "       'Governorate', 'Municipality', 'Neighborhood', 'damage_class_desc',\n",
       "       'is_damaged', 'damage_level', 'lon', 'lat', 'index_right',\n",
       "       'system:index', 'area', 'building', 'class', 'damage_pts', 'k100',\n",
       "       'k150', 'k50', 'max_change', 'name', 'osm_id', 'osm_type', '.geo'],\n",
       "      dtype='object')"
      ]
     },
     "execution_count": 24,
     "metadata": {},
     "output_type": "execute_result"
    }
   ],
   "source": [
    "timeseries.columns"
   ]
  },
  {
   "cell_type": "markdown",
   "id": "fe7ed3c8",
   "metadata": {},
   "source": [
    "Let's do some checks on the timeseries data to verify the integrity of the point-to-pixel relationships and damage labels\n"
   ]
  },
  {
   "cell_type": "code",
   "execution_count": 25,
   "id": "703d1824",
   "metadata": {},
   "outputs": [
    {
     "name": "stdout",
     "output_type": "stream",
     "text": [
      "Points with consistent damage labels: 8448 (100.00%)\n",
      "Points with inconsistent damage labels: 0\n"
     ]
    }
   ],
   "source": [
    "# 1. Check that each point_id has only one unique is_damaged class\n",
    "point_damage_consistency = timeseries.groupby('point_id')['is_damaged'].nunique()\n",
    "consistent_points = (point_damage_consistency == 1).sum()\n",
    "inconsistent_points = (point_damage_consistency > 1).sum()\n",
    "\n",
    "print(f\"Points with consistent damage labels: {consistent_points} ({consistent_points/len(point_damage_consistency)*100:.2f}%)\")\n",
    "print(f\"Points with inconsistent damage labels: {inconsistent_points}\")\n",
    "\n",
    "if inconsistent_points > 0:\n",
    "    print(\"\\nInconsistent points:\")\n",
    "    inconsistent_point_ids = point_damage_consistency[point_damage_consistency > 1].index\n",
    "    for pid in inconsistent_point_ids[:5]:  # Show first 5 examples\n",
    "        damage_values = timeseries[timeseries['point_id'] == pid]['is_damaged'].unique()\n",
    "        print(f\"Point ID {pid}: damage values = {damage_values}\")"
   ]
  },
  {
   "cell_type": "code",
   "execution_count": 26,
   "id": "199857d9",
   "metadata": {},
   "outputs": [
    {
     "name": "stdout",
     "output_type": "stream",
     "text": [
      "\n",
      "Pixels per point statistics:\n",
      "Mean: 3.30\n",
      "Median: 3.0\n",
      "Min: 2\n",
      "Max: 4\n"
     ]
    }
   ],
   "source": [
    "# 2. Check how many pixels are associated with each point\n",
    "pixels_per_point = timeseries.groupby('point_id')['pixel_id'].nunique()\n",
    "print(f\"\\nPixels per point statistics:\")\n",
    "print(f\"Mean: {pixels_per_point.mean():.2f}\")\n",
    "print(f\"Median: {pixels_per_point.median()}\")\n",
    "print(f\"Min: {pixels_per_point.min()}\")\n",
    "print(f\"Max: {pixels_per_point.max()}\")"
   ]
  },
  {
   "cell_type": "code",
   "execution_count": 27,
   "id": "14a13c6e",
   "metadata": {},
   "outputs": [
    {
     "name": "stdout",
     "output_type": "stream",
     "text": [
      "\n",
      "Distribution of pixels per point:\n",
      "2 pixel(s): 1621 points (19.19%)\n",
      "3 pixel(s): 2635 points (31.19%)\n",
      "4 pixel(s): 4192 points (49.62%)\n"
     ]
    }
   ],
   "source": [
    "# Distribution of pixels per point\n",
    "print(\"\\nDistribution of pixels per point:\")\n",
    "pixel_counts = pixels_per_point.value_counts().sort_index()\n",
    "for count, freq in pixel_counts.items():\n",
    "    print(f\"{count} pixel(s): {freq} points ({freq/len(pixels_per_point)*100:.2f}%)\")"
   ]
  },
  {
   "cell_type": "code",
   "execution_count": 33,
   "id": "f082605f",
   "metadata": {},
   "outputs": [
    {
     "name": "stdout",
     "output_type": "stream",
     "text": [
      "Number of pixels per point per date:\n",
      "Mean: 1.07\n",
      "Median: 1.0\n",
      "Min: 1\n",
      "Max: 2\n",
      "\n",
      "Distribution of pixels per point per date:\n",
      "1 pixel(s): 351787 point-date combinations (92.92%)\n",
      "2 pixel(s): 26802 point-date combinations (7.08%)\n",
      "\n",
      "Points with consistent pixel counts across all dates: 221 (2.62%)\n",
      "Points with varying pixel counts across dates: 8227 (97.38%)\n"
     ]
    }
   ],
   "source": [
    "# Group by point_id and backscatter_date, then count unique pixel_ids\n",
    "pixel_counts_per_point_date = timeseries.groupby(['point_id', 'backscatter_date'])['pixel_id'].nunique()\n",
    "\n",
    "# Summary statistics\n",
    "print(\"Number of pixels per point per date:\")\n",
    "print(f\"Mean: {pixel_counts_per_point_date.mean():.2f}\")\n",
    "print(f\"Median: {pixel_counts_per_point_date.median()}\")\n",
    "print(f\"Min: {pixel_counts_per_point_date.min()}\")\n",
    "print(f\"Max: {pixel_counts_per_point_date.max()}\")\n",
    "\n",
    "# Distribution of pixel counts\n",
    "print(\"\\nDistribution of pixels per point per date:\")\n",
    "distribution = pixel_counts_per_point_date.value_counts().sort_index()\n",
    "for count, freq in distribution.items():\n",
    "    print(f\"{count} pixel(s): {freq} point-date combinations ({freq/len(pixel_counts_per_point_date)*100:.2f}%)\")\n",
    "\n",
    "# Check if there are points with different numbers of pixels across dates\n",
    "pixel_count_consistency = pixel_counts_per_point_date.groupby('point_id').nunique()\n",
    "consistent_points = (pixel_count_consistency == 1).sum()\n",
    "inconsistent_points = (pixel_count_consistency > 1).sum()\n",
    "\n",
    "print(f\"\\nPoints with consistent pixel counts across all dates: {consistent_points} ({consistent_points/len(pixel_count_consistency)*100:.2f}%)\")\n",
    "print(f\"Points with varying pixel counts across dates: {inconsistent_points} ({inconsistent_points/len(pixel_count_consistency)*100:.2f}%)\")"
   ]
  },
  {
   "cell_type": "code",
   "execution_count": 34,
   "id": "53b97942",
   "metadata": {},
   "outputs": [
    {
     "name": "stdout",
     "output_type": "stream",
     "text": [
      "Points with exactly one pixel throughout the time series: 0 out of 8448\n",
      "Percentage: 0.00%\n",
      "\n",
      "For points with multiple pixels:\n",
      "Average percentage of observations with primary pixel: 60.72%\n",
      "\n",
      "Distribution of primary pixel stability:\n",
      "<50%: 2521 points (29.84%)\n",
      "50-60%: 1946 points (23.04%)\n",
      "60-70%: 1675 points (19.83%)\n",
      "70-80%: 1087 points (12.87%)\n",
      "80-90%: 669 points (7.92%)\n",
      "90-95%: 334 points (3.95%)\n",
      "95-99%: 216 points (2.56%)\n",
      "99-100%: 0 points (0.00%)\n"
     ]
    }
   ],
   "source": [
    "# Group by point_id and count unique pixel_ids across all dates\n",
    "unique_pixels_per_point = timeseries.groupby('point_id')['pixel_id'].nunique()\n",
    "\n",
    "# Calculate how many points have exactly one pixel throughout\n",
    "single_pixel_points = (unique_pixels_per_point == 1).sum()\n",
    "total_points = len(unique_pixels_per_point)\n",
    "\n",
    "print(f\"Points with exactly one pixel throughout the time series: {single_pixel_points} out of {total_points}\")\n",
    "print(f\"Percentage: {single_pixel_points/total_points*100:.2f}%\")\n",
    "\n",
    "# For points with multiple pixels, analyze the stability of the primary pixel\n",
    "points_with_multiple_pixels = unique_pixels_per_point[unique_pixels_per_point > 1].index\n",
    "\n",
    "# Analyze pixel consistency for these points\n",
    "pixel_stability_results = []\n",
    "\n",
    "for point_id in points_with_multiple_pixels:\n",
    "    point_data = timeseries[timeseries['point_id'] == point_id]\n",
    "    \n",
    "    # Count occurrences of each pixel for this point\n",
    "    pixel_counts = point_data['pixel_id'].value_counts()\n",
    "    \n",
    "    # Calculate total observations and observations of most frequent pixel\n",
    "    total_obs = len(point_data)\n",
    "    primary_pixel = pixel_counts.index[0]\n",
    "    primary_pixel_count = pixel_counts.iloc[0]\n",
    "    \n",
    "    # Calculate stability as percentage of observations using the primary pixel\n",
    "    stability = primary_pixel_count / total_obs\n",
    "    \n",
    "    pixel_stability_results.append({\n",
    "        'point_id': point_id,\n",
    "        'total_pixels': len(pixel_counts),\n",
    "        'total_observations': total_obs,\n",
    "        'primary_pixel': primary_pixel,\n",
    "        'primary_pixel_observations': primary_pixel_count,\n",
    "        'primary_pixel_percentage': stability * 100\n",
    "    })\n",
    "\n",
    "# Convert to DataFrame for analysis\n",
    "stability_df = pd.DataFrame(pixel_stability_results)\n",
    "\n",
    "# Overall statistics\n",
    "print(\"\\nFor points with multiple pixels:\")\n",
    "print(f\"Average percentage of observations with primary pixel: {stability_df['primary_pixel_percentage'].mean():.2f}%\")\n",
    "\n",
    "# Distribution of primary pixel percentages\n",
    "print(\"\\nDistribution of primary pixel stability:\")\n",
    "bins = [0, 50, 60, 70, 80, 90, 95, 99, 100]\n",
    "bin_labels = ['<50%', '50-60%', '60-70%', '70-80%', '80-90%', '90-95%', '95-99%', '99-100%']\n",
    "stability_df['stability_bin'] = pd.cut(stability_df['primary_pixel_percentage'], bins=bins, labels=bin_labels)\n",
    "stability_distribution = stability_df['stability_bin'].value_counts().sort_index()\n",
    "\n",
    "for bin_name, count in stability_distribution.items():\n",
    "    print(f\"{bin_name}: {count} points ({count/len(stability_df)*100:.2f}%)\")"
   ]
  },
  {
   "cell_type": "code",
   "execution_count": 35,
   "id": "b1781dac",
   "metadata": {},
   "outputs": [],
   "source": [
    "from scipy.spatial.distance import pdist, squareform\n",
    "\n",
    "def analyze_pixel_displacement(timeseries):\n",
    "    \"\"\"\n",
    "    Analyze how far pixels move for each point across the time series\n",
    "    \"\"\"\n",
    "    results = []\n",
    "    \n",
    "    # Process each point\n",
    "    for point_id in timeseries['point_id'].unique():\n",
    "        point_data = timeseries[timeseries['point_id'] == point_id]\n",
    "        \n",
    "        # Get unique pixel locations\n",
    "        unique_pixels = point_data[['pixel_id', 'pixel_lon', 'pixel_lat']].drop_duplicates()\n",
    "        \n",
    "        if len(unique_pixels) <= 1:\n",
    "            continue  # Skip points with only one pixel\n",
    "            \n",
    "        # Get the point's location\n",
    "        point_location = point_data[['point_lon', 'point_lat']].iloc[0]\n",
    "        \n",
    "        # Calculate distance from point to each pixel (in degrees)\n",
    "        unique_pixels['distance_to_point'] = np.sqrt(\n",
    "            (unique_pixels['pixel_lon'] - point_location['point_lon'])**2 + \n",
    "            (unique_pixels['pixel_lat'] - point_location['point_lat'])**2\n",
    "        )\n",
    "        \n",
    "        # Convert distance to approximate meters (very rough conversion)\n",
    "        # 1 degree latitude ≈ 111km at the equator\n",
    "        unique_pixels['distance_meters'] = unique_pixels['distance_to_point'] * 111000\n",
    "        \n",
    "        # Calculate pairwise distances between pixels\n",
    "        if len(unique_pixels) >= 2:\n",
    "            pixel_coords = unique_pixels[['pixel_lon', 'pixel_lat']].values\n",
    "            pairwise_dist = pdist(pixel_coords)\n",
    "            max_pixel_dist = np.max(pairwise_dist) * 111000  # Convert to meters\n",
    "        else:\n",
    "            max_pixel_dist = 0\n",
    "            \n",
    "        # Add results\n",
    "        results.append({\n",
    "            'point_id': point_id,\n",
    "            'unique_pixels': len(unique_pixels),\n",
    "            'max_distance_between_pixels_m': max_pixel_dist,\n",
    "            'avg_distance_to_point_m': unique_pixels['distance_meters'].mean(),\n",
    "            'max_distance_to_point_m': unique_pixels['distance_meters'].max()\n",
    "        })\n",
    "    \n",
    "    results_df = pd.DataFrame(results)\n",
    "    \n",
    "    # Summary statistics\n",
    "    print(\"Distance statistics:\")\n",
    "    print(f\"Average max distance between pixels: {results_df['max_distance_between_pixels_m'].mean():.2f} meters\")\n",
    "    print(f\"Median max distance between pixels: {results_df['max_distance_between_pixels_m'].median():.2f} meters\")\n",
    "    print(f\"90th percentile max distance: {results_df['max_distance_between_pixels_m'].quantile(0.9):.2f} meters\")\n",
    "    \n",
    "    print(\"\\nDistance from point to pixels:\")\n",
    "    print(f\"Average distance: {results_df['avg_distance_to_point_m'].mean():.2f} meters\")\n",
    "    print(f\"Median distance: {results_df['avg_distance_to_point_m'].median():.2f} meters\")\n",
    "    \n",
    "    # Distribution of maximum distances\n",
    "    dist_bins = [0, 10, 20, 30, 40, 50, 100, float('inf')]\n",
    "    results_df['distance_bin'] = pd.cut(results_df['max_distance_between_pixels_m'], bins=dist_bins)\n",
    "    distance_distribution = results_df['distance_bin'].value_counts().sort_index()\n",
    "    \n",
    "    print(\"\\nDistribution of maximum distance between pixels:\")\n",
    "    for bin_name, count in distance_distribution.items():\n",
    "        print(f\"{bin_name}: {count} points ({count/len(results_df)*100:.2f}%)\")\n",
    "    \n",
    "    return results_df"
   ]
  },
  {
   "cell_type": "code",
   "execution_count": 36,
   "id": "1c067dca",
   "metadata": {},
   "outputs": [
    {
     "name": "stdout",
     "output_type": "stream",
     "text": [
      "Distance statistics:\n",
      "Average max distance between pixels: 10.83 meters\n",
      "Median max distance between pixels: 10.86 meters\n",
      "90th percentile max distance: 11.28 meters\n",
      "\n",
      "Distance from point to pixels:\n",
      "Average distance: 3.62 meters\n",
      "Median distance: 3.59 meters\n",
      "\n",
      "Distribution of maximum distance between pixels:\n",
      "(0.0, 10.0]: 171 points (2.02%)\n",
      "(10.0, 20.0]: 8277 points (97.98%)\n",
      "(20.0, 30.0]: 0 points (0.00%)\n",
      "(30.0, 40.0]: 0 points (0.00%)\n",
      "(40.0, 50.0]: 0 points (0.00%)\n",
      "(50.0, 100.0]: 0 points (0.00%)\n",
      "(100.0, inf]: 0 points (0.00%)\n"
     ]
    },
    {
     "data": {
      "application/vnd.microsoft.datawrangler.viewer.v0+json": {
       "columns": [
        {
         "name": "index",
         "rawType": "int64",
         "type": "integer"
        },
        {
         "name": "point_id",
         "rawType": "int64",
         "type": "integer"
        },
        {
         "name": "unique_pixels",
         "rawType": "int64",
         "type": "integer"
        },
        {
         "name": "max_distance_between_pixels_m",
         "rawType": "float64",
         "type": "float"
        },
        {
         "name": "avg_distance_to_point_m",
         "rawType": "float64",
         "type": "float"
        },
        {
         "name": "max_distance_to_point_m",
         "rawType": "float64",
         "type": "float"
        },
        {
         "name": "distance_bin",
         "rawType": "category",
         "type": "unknown"
        }
       ],
       "conversionMethod": "pd.DataFrame",
       "ref": "dd6b4a47-98fc-479e-a7b0-9e670ca5c0fa",
       "rows": [
        [
         "0",
         "0",
         "49",
         "10.747808125723347",
         "3.6900032830626754",
         "5.799422449252949",
         "(10.0, 20.0]"
        ],
        [
         "1",
         "1",
         "43",
         "10.037810205359866",
         "3.6311827194069832",
         "5.122317226146081",
         "(10.0, 20.0]"
        ],
        [
         "2",
         "2",
         "43",
         "10.594501301478436",
         "3.401428478799775",
         "5.766727625623423",
         "(10.0, 20.0]"
        ],
        [
         "3",
         "3",
         "48",
         "10.962148624983808",
         "3.5766733837099367",
         "5.610401923732813",
         "(10.0, 20.0]"
        ],
        [
         "4",
         "4",
         "42",
         "10.45099947751577",
         "3.434918353945676",
         "5.392114418843669",
         "(10.0, 20.0]"
        ],
        [
         "5",
         "5",
         "44",
         "11.193994559788285",
         "3.5677563287395717",
         "5.703682229785482",
         "(10.0, 20.0]"
        ],
        [
         "6",
         "6",
         "46",
         "10.046626353344948",
         "3.6490253724224253",
         "5.458474940853443",
         "(10.0, 20.0]"
        ],
        [
         "7",
         "7",
         "46",
         "10.38314691530299",
         "3.5383981656142054",
         "5.700164015130251",
         "(10.0, 20.0]"
        ],
        [
         "8",
         "8",
         "45",
         "10.55218950916754",
         "3.520111668197941",
         "5.555132711187277",
         "(10.0, 20.0]"
        ],
        [
         "9",
         "9",
         "50",
         "10.956324037757426",
         "3.634755674212619",
         "5.5718348273115375",
         "(10.0, 20.0]"
        ],
        [
         "10",
         "10",
         "44",
         "10.798314582628649",
         "3.4126075557111277",
         "5.550617980005642",
         "(10.0, 20.0]"
        ],
        [
         "11",
         "11",
         "45",
         "11.00315099892503",
         "3.4238363680704578",
         "5.640074475277206",
         "(10.0, 20.0]"
        ],
        [
         "12",
         "12",
         "45",
         "10.004164856310627",
         "3.4693185134830737",
         "5.450906386197429",
         "(10.0, 20.0]"
        ],
        [
         "13",
         "13",
         "46",
         "10.699505170317664",
         "3.3791244177659188",
         "5.791534246010238",
         "(10.0, 20.0]"
        ],
        [
         "14",
         "14",
         "46",
         "10.046626353578299",
         "3.6277291545922377",
         "5.380049329980308",
         "(10.0, 20.0]"
        ],
        [
         "15",
         "15",
         "52",
         "11.035924816048515",
         "3.9369353910187246",
         "5.585855055466107",
         "(10.0, 20.0]"
        ],
        [
         "16",
         "16",
         "53",
         "11.163865613923372",
         "3.6390961287430916",
         "5.8385411650373475",
         "(10.0, 20.0]"
        ],
        [
         "17",
         "17",
         "47",
         "10.789178748134475",
         "3.6476490504935737",
         "5.821445889294432",
         "(10.0, 20.0]"
        ],
        [
         "18",
         "18",
         "50",
         "11.216098763170296",
         "3.5331588966105714",
         "5.640762594667076",
         "(10.0, 20.0]"
        ],
        [
         "19",
         "19",
         "52",
         "11.153742290539943",
         "3.9040388164874633",
         "5.672804317843312",
         "(10.0, 20.0]"
        ],
        [
         "20",
         "20",
         "54",
         "11.121367256734093",
         "3.667783036233631",
         "5.682044755893688",
         "(10.0, 20.0]"
        ],
        [
         "21",
         "21",
         "47",
         "10.815820343245882",
         "3.3922653897662016",
         "5.580779580965539",
         "(10.0, 20.0]"
        ],
        [
         "22",
         "22",
         "51",
         "10.894761238048872",
         "4.0281400680662225",
         "5.665222981792318",
         "(10.0, 20.0]"
        ],
        [
         "23",
         "23",
         "45",
         "10.412008523685062",
         "3.358674481877418",
         "5.275389588891229",
         "(10.0, 20.0]"
        ],
        [
         "24",
         "24",
         "47",
         "10.5188075968684",
         "3.6447879863960893",
         "5.514650188428231",
         "(10.0, 20.0]"
        ],
        [
         "25",
         "25",
         "49",
         "11.160200140122324",
         "3.9944069677069396",
         "5.613629622786737",
         "(10.0, 20.0]"
        ],
        [
         "26",
         "26",
         "51",
         "10.335020349124155",
         "3.5278553935494394",
         "5.498636810915985",
         "(10.0, 20.0]"
        ],
        [
         "27",
         "27",
         "52",
         "11.11087416447013",
         "4.03871819530362",
         "5.633491729606253",
         "(10.0, 20.0]"
        ],
        [
         "28",
         "28",
         "46",
         "10.60317353798281",
         "3.542313203918721",
         "5.594771606435024",
         "(10.0, 20.0]"
        ],
        [
         "29",
         "29",
         "46",
         "10.603173538762872",
         "3.5382419906151275",
         "5.6953334706839955",
         "(10.0, 20.0]"
        ],
        [
         "30",
         "30",
         "47",
         "10.779641481212078",
         "3.7409376395643625",
         "5.746172767691077",
         "(10.0, 20.0]"
        ],
        [
         "31",
         "31",
         "51",
         "10.650139603954402",
         "3.523356486547209",
         "5.783470801735028",
         "(10.0, 20.0]"
        ],
        [
         "32",
         "32",
         "50",
         "10.756638669145529",
         "3.7340097328784543",
         "5.681883163492021",
         "(10.0, 20.0]"
        ],
        [
         "33",
         "33",
         "51",
         "10.911746092199113",
         "3.7768039534826867",
         "5.469963810461984",
         "(10.0, 20.0]"
        ],
        [
         "34",
         "34",
         "47",
         "10.349857002354488",
         "3.5226852571474683",
         "5.561989079000245",
         "(10.0, 20.0]"
        ],
        [
         "35",
         "35",
         "46",
         "10.545068613105899",
         "3.8033315395603626",
         "5.524399333582229",
         "(10.0, 20.0]"
        ],
        [
         "36",
         "36",
         "43",
         "10.55218950916754",
         "3.5396110476225062",
         "5.384626732606648",
         "(10.0, 20.0]"
        ],
        [
         "37",
         "37",
         "50",
         "10.559726799422144",
         "3.6612726929281614",
         "5.604834818634033",
         "(10.0, 20.0]"
        ],
        [
         "38",
         "38",
         "49",
         "10.559726799422144",
         "3.5761397104209114",
         "5.715160027296069",
         "(10.0, 20.0]"
        ],
        [
         "39",
         "39",
         "53",
         "11.449437467172622",
         "3.655526515240959",
         "5.818675024903247",
         "(10.0, 20.0]"
        ],
        [
         "40",
         "40",
         "49",
         "10.596299858447654",
         "3.533485081117906",
         "5.624339009879872",
         "(10.0, 20.0]"
        ],
        [
         "41",
         "41",
         "44",
         "10.622377641467544",
         "3.353125646737813",
         "5.411312562461874",
         "(10.0, 20.0]"
        ],
        [
         "42",
         "42",
         "45",
         "10.894761238048872",
         "3.904185910212807",
         "5.6023812301712175",
         "(10.0, 20.0]"
        ],
        [
         "43",
         "43",
         "44",
         "10.004164856076336",
         "3.4369339676648822",
         "5.708647529375335",
         "(10.0, 20.0]"
        ],
        [
         "44",
         "44",
         "44",
         "10.630834926135519",
         "3.392252046156159",
         "5.493600199961251",
         "(10.0, 20.0]"
        ],
        [
         "45",
         "45",
         "48",
         "10.779641481212078",
         "3.9088689495526143",
         "5.695185886069134",
         "(10.0, 20.0]"
        ],
        [
         "46",
         "46",
         "48",
         "10.513902576343279",
         "3.4167869699723035",
         "5.51430736963337",
         "(10.0, 20.0]"
        ],
        [
         "47",
         "47",
         "50",
         "10.911746092199113",
         "3.74528015017513",
         "5.591731517725113",
         "(10.0, 20.0]"
        ],
        [
         "48",
         "48",
         "48",
         "10.31942245189755",
         "3.4499693852982154",
         "5.335372951398713",
         "(10.0, 20.0]"
        ],
        [
         "49",
         "49",
         "48",
         "10.916565986377664",
         "3.5238696674073338",
         "5.51836828230087",
         "(10.0, 20.0]"
        ]
       ],
       "shape": {
        "columns": 6,
        "rows": 8448
       }
      },
      "text/html": [
       "<div>\n",
       "<style scoped>\n",
       "    .dataframe tbody tr th:only-of-type {\n",
       "        vertical-align: middle;\n",
       "    }\n",
       "\n",
       "    .dataframe tbody tr th {\n",
       "        vertical-align: top;\n",
       "    }\n",
       "\n",
       "    .dataframe thead th {\n",
       "        text-align: right;\n",
       "    }\n",
       "</style>\n",
       "<table border=\"1\" class=\"dataframe\">\n",
       "  <thead>\n",
       "    <tr style=\"text-align: right;\">\n",
       "      <th></th>\n",
       "      <th>point_id</th>\n",
       "      <th>unique_pixels</th>\n",
       "      <th>max_distance_between_pixels_m</th>\n",
       "      <th>avg_distance_to_point_m</th>\n",
       "      <th>max_distance_to_point_m</th>\n",
       "      <th>distance_bin</th>\n",
       "    </tr>\n",
       "  </thead>\n",
       "  <tbody>\n",
       "    <tr>\n",
       "      <th>0</th>\n",
       "      <td>0</td>\n",
       "      <td>49</td>\n",
       "      <td>10.747808</td>\n",
       "      <td>3.690003</td>\n",
       "      <td>5.799422</td>\n",
       "      <td>(10.0, 20.0]</td>\n",
       "    </tr>\n",
       "    <tr>\n",
       "      <th>1</th>\n",
       "      <td>1</td>\n",
       "      <td>43</td>\n",
       "      <td>10.037810</td>\n",
       "      <td>3.631183</td>\n",
       "      <td>5.122317</td>\n",
       "      <td>(10.0, 20.0]</td>\n",
       "    </tr>\n",
       "    <tr>\n",
       "      <th>2</th>\n",
       "      <td>2</td>\n",
       "      <td>43</td>\n",
       "      <td>10.594501</td>\n",
       "      <td>3.401428</td>\n",
       "      <td>5.766728</td>\n",
       "      <td>(10.0, 20.0]</td>\n",
       "    </tr>\n",
       "    <tr>\n",
       "      <th>3</th>\n",
       "      <td>3</td>\n",
       "      <td>48</td>\n",
       "      <td>10.962149</td>\n",
       "      <td>3.576673</td>\n",
       "      <td>5.610402</td>\n",
       "      <td>(10.0, 20.0]</td>\n",
       "    </tr>\n",
       "    <tr>\n",
       "      <th>4</th>\n",
       "      <td>4</td>\n",
       "      <td>42</td>\n",
       "      <td>10.450999</td>\n",
       "      <td>3.434918</td>\n",
       "      <td>5.392114</td>\n",
       "      <td>(10.0, 20.0]</td>\n",
       "    </tr>\n",
       "    <tr>\n",
       "      <th>...</th>\n",
       "      <td>...</td>\n",
       "      <td>...</td>\n",
       "      <td>...</td>\n",
       "      <td>...</td>\n",
       "      <td>...</td>\n",
       "      <td>...</td>\n",
       "    </tr>\n",
       "    <tr>\n",
       "      <th>8443</th>\n",
       "      <td>8443</td>\n",
       "      <td>42</td>\n",
       "      <td>9.789715</td>\n",
       "      <td>3.558932</td>\n",
       "      <td>5.096616</td>\n",
       "      <td>(0.0, 10.0]</td>\n",
       "    </tr>\n",
       "    <tr>\n",
       "      <th>8444</th>\n",
       "      <td>8444</td>\n",
       "      <td>48</td>\n",
       "      <td>10.296142</td>\n",
       "      <td>3.503924</td>\n",
       "      <td>5.344559</td>\n",
       "      <td>(10.0, 20.0]</td>\n",
       "    </tr>\n",
       "    <tr>\n",
       "      <th>8445</th>\n",
       "      <td>8445</td>\n",
       "      <td>47</td>\n",
       "      <td>10.594768</td>\n",
       "      <td>3.571046</td>\n",
       "      <td>5.573749</td>\n",
       "      <td>(10.0, 20.0]</td>\n",
       "    </tr>\n",
       "    <tr>\n",
       "      <th>8446</th>\n",
       "      <td>8446</td>\n",
       "      <td>48</td>\n",
       "      <td>10.709521</td>\n",
       "      <td>3.444367</td>\n",
       "      <td>5.696343</td>\n",
       "      <td>(10.0, 20.0]</td>\n",
       "    </tr>\n",
       "    <tr>\n",
       "      <th>8447</th>\n",
       "      <td>8447</td>\n",
       "      <td>49</td>\n",
       "      <td>10.892974</td>\n",
       "      <td>3.497437</td>\n",
       "      <td>5.812082</td>\n",
       "      <td>(10.0, 20.0]</td>\n",
       "    </tr>\n",
       "  </tbody>\n",
       "</table>\n",
       "<p>8448 rows × 6 columns</p>\n",
       "</div>"
      ],
      "text/plain": [
       "      point_id  unique_pixels  max_distance_between_pixels_m  \\\n",
       "0            0             49                      10.747808   \n",
       "1            1             43                      10.037810   \n",
       "2            2             43                      10.594501   \n",
       "3            3             48                      10.962149   \n",
       "4            4             42                      10.450999   \n",
       "...        ...            ...                            ...   \n",
       "8443      8443             42                       9.789715   \n",
       "8444      8444             48                      10.296142   \n",
       "8445      8445             47                      10.594768   \n",
       "8446      8446             48                      10.709521   \n",
       "8447      8447             49                      10.892974   \n",
       "\n",
       "      avg_distance_to_point_m  max_distance_to_point_m  distance_bin  \n",
       "0                    3.690003                 5.799422  (10.0, 20.0]  \n",
       "1                    3.631183                 5.122317  (10.0, 20.0]  \n",
       "2                    3.401428                 5.766728  (10.0, 20.0]  \n",
       "3                    3.576673                 5.610402  (10.0, 20.0]  \n",
       "4                    3.434918                 5.392114  (10.0, 20.0]  \n",
       "...                       ...                      ...           ...  \n",
       "8443                 3.558932                 5.096616   (0.0, 10.0]  \n",
       "8444                 3.503924                 5.344559  (10.0, 20.0]  \n",
       "8445                 3.571046                 5.573749  (10.0, 20.0]  \n",
       "8446                 3.444367                 5.696343  (10.0, 20.0]  \n",
       "8447                 3.497437                 5.812082  (10.0, 20.0]  \n",
       "\n",
       "[8448 rows x 6 columns]"
      ]
     },
     "execution_count": 36,
     "metadata": {},
     "output_type": "execute_result"
    }
   ],
   "source": [
    "analyze_pixel_displacement(timeseries)"
   ]
  },
  {
   "cell_type": "markdown",
   "id": "4a679d64",
   "metadata": {},
   "source": [
    "These distance statistics are very revealing. The consistent ~10.8m maximum distance between pixels confirms that points are only moving to adjacent pixels (since Sentinel-1 pixels are 10m). And with an average distance of only 3.6m from points to pixels, the geolocation is quite accurate."
   ]
  },
  {
   "cell_type": "code",
   "execution_count": 59,
   "id": "505160d1",
   "metadata": {},
   "outputs": [],
   "source": [
    "stable_timeseries = feh.create_stable_point_timeseries(timeseries)"
   ]
  },
  {
   "cell_type": "code",
   "execution_count": null,
   "id": "337adbe2",
   "metadata": {},
   "outputs": [
    {
     "name": "stdout",
     "output_type": "stream",
     "text": [
      "Selected 1 points:\n",
      "Point 1552.0: Damaged, 4.2m away\n"
     ]
    },
    {
     "data": {
      "image/png": "[encoded data removed]",
      "text/plain": [
       "<Figure size 1500x500 with 2 Axes>"
      ]
     },
     "metadata": {},
     "output_type": "display_data"
    }
   ],
   "source": [
    "from utils.visualisations_helpers import plot_backscatter_timeseries_by_id, plot_backscatter_timeseries_by_coordinates\n",
    "\n",
    "interesting_points = {\n",
    "    '2693': [34.4541552, 31.5145497],\n",
    "    '2485': [34.4597159, 31.5322958],\n",
    "    '223': [34.4442728, 31.5222414],\n",
    "    '1552': [34.4579653, 31.5433510],\n",
    "}\n",
    "\n",
    "\n",
    "# Plot them\n",
    "plot_backscatter_timeseries_by_coordinates(stable_timeseries,34.4579653, 31.5433510)"
   ]
  },
  {
   "cell_type": "code",
   "execution_count": 66,
   "id": "70b0972e",
   "metadata": {},
   "outputs": [
    {
     "name": "stdout",
     "output_type": "stream",
     "text": [
      "Creating time series features...\n",
      "Reference period: 498808 observations\n",
      "Assessment period: 311974 observations\n"
     ]
    },
    {
     "data": {
      "application/vnd.jupyter.widget-view+json": {
       "model_id": "8e7698af85464a6eaa19576aea37e5aa",
       "version_major": 2,
       "version_minor": 0
      },
      "text/plain": [
       "Extracting features:   0%|          | 0/49605 [00:00<?, ?it/s]"
      ]
     },
     "metadata": {},
     "output_type": "display_data"
    },
    {
     "name": "stderr",
     "output_type": "stream",
     "text": [
      "/Users/matteolarrode/Documents/Oxford/Applied ML/Summative/ML-BuildingDamageViaSatellite/notebooks/../utils/feature_extraction_helpers.py:456: RuntimeWarning: Precision loss occurred in moment calculation due to catastrophic cancellation. This occurs when the data are nearly identical. Results may be unreliable.\n",
      "  'kurtosis': lambda x: stats.kurtosis(x) if len(x) > 3 else 0,\n",
      "/Users/matteolarrode/Documents/Oxford/Applied ML/Summative/ML-BuildingDamageViaSatellite/notebooks/../utils/feature_extraction_helpers.py:457: RuntimeWarning: Precision loss occurred in moment calculation due to catastrophic cancellation. This occurs when the data are nearly identical. Results may be unreliable.\n",
      "  'skew': lambda x: stats.skew(x) if len(x) > 2 else 0\n"
     ]
    },
    {
     "name": "stdout",
     "output_type": "stream",
     "text": [
      "Created 36755 feature vectors\n",
      "Class distribution: 18164 damaged, 18591 undamaged\n"
     ]
    }
   ],
   "source": [
    "# Create feature vectors for machine learning\n",
    "features = feh.create_timeseries_features(timeseries_df=timeseries)\n",
    "\n",
    "features.to_csv('../data/processed/final/final_data.csv', index=False)"
   ]
  },
  {
   "cell_type": "code",
   "execution_count": null,
   "id": "4900b952",
   "metadata": {},
   "outputs": [
    {
     "name": "stderr",
     "output_type": "stream",
     "text": [
      "/Users/matteolarrode/Documents/Oxford/Applied ML/Summative/ML-BuildingDamageViaSatellite/notebooks/../utils/feature_extraction_helpers.py:593: RuntimeWarning: Precision loss occurred in moment calculation due to catastrophic cancellation. This occurs when the data are nearly identical. Results may be unreliable.\n",
      "/Users/matteolarrode/Documents/Oxford/Applied ML/Summative/ML-BuildingDamageViaSatellite/notebooks/../utils/feature_extraction_helpers.py:594: RuntimeWarning: Precision loss occurred in moment calculation due to catastrophic cancellation. This occurs when the data are nearly identical. Results may be unreliable.\n",
      "/opt/anaconda3/envs/ML-summative/lib/python3.10/site-packages/scipy/stats/_axis_nan_policy.py:586: RuntimeWarning: Precision loss occurred in moment calculation due to catastrophic cancellation. This occurs when the data are nearly identical. Results may be unreliable.\n",
      "  res = hypotest_fun_out(*samples, **kwds)\n",
      "/Users/matteolarrode/Documents/Oxford/Applied ML/Summative/ML-BuildingDamageViaSatellite/notebooks/../utils/feature_extraction_helpers.py:593: RuntimeWarning: Precision loss occurred in moment calculation due to catastrophic cancellation. This occurs when the data are nearly identical. Results may be unreliable.\n",
      "/Users/matteolarrode/Documents/Oxford/Applied ML/Summative/ML-BuildingDamageViaSatellite/notebooks/../utils/feature_extraction_helpers.py:594: RuntimeWarning: Precision loss occurred in moment calculation due to catastrophic cancellation. This occurs when the data are nearly identical. Results may be unreliable.\n",
      "/opt/anaconda3/envs/ML-summative/lib/python3.10/site-packages/scipy/stats/_axis_nan_policy.py:586: RuntimeWarning: Precision loss occurred in moment calculation due to catastrophic cancellation. This occurs when the data are nearly identical. Results may be unreliable.\n",
      "  res = hypotest_fun_out(*samples, **kwds)\n"
     ]
    },
    {
     "name": "stdout",
     "output_type": "stream",
     "text": [
      "Extracted 121 features for 8448 points\n"
     ]
    }
   ],
   "source": [
    "# Create feature vectors for machine learning\n",
    "features_stable = feh.extract_ml_features_stable(stable_timeseries)\n",
    "\n",
    "features_stable.to_csv('../data/processed/final/final_data_stable.csv', index=False)"
   ]
  }
 ],
 "metadata": {
  "kernelspec": {
   "display_name": "ML-summative",
   "language": "python",
   "name": "python3"
  },
  "language_info": {
   "codemirror_mode": {
    "name": "ipython",
    "version": 3
   },
   "file_extension": ".py",
   "mimetype": "text/x-python",
   "name": "python",
   "nbconvert_exporter": "python",
   "pygments_lexer": "ipython3",
   "version": "3.10.13"
  }
 },
 "nbformat": 4,
 "nbformat_minor": 5
}
