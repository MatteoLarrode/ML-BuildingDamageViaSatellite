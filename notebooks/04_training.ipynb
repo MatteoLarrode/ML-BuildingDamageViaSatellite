{
 "cells": [
  {
   "cell_type": "markdown",
   "id": "269634c5",
   "metadata": {},
   "source": [
    "# Applied ML War Building Damage - Data Processing\n",
    "\n",
    "Matteo Larrode, MSc Social Data Science \n",
    "\n",
    "Oxford Internet Institute, University of Oxford"
   ]
  },
  {
   "cell_type": "code",
   "execution_count": null,
   "id": "357649af",
   "metadata": {},
   "outputs": [],
   "source": [
    "%load_ext autoreload\n",
    "%autoreload 2"
   ]
  }
 ],
 "metadata": {
  "language_info": {
   "name": "python"
  }
 },
 "nbformat": 4,
 "nbformat_minor": 5
}
