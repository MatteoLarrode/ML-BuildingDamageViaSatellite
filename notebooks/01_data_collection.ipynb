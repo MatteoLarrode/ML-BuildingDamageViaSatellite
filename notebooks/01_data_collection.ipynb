{
 "cells": [
  {
   "cell_type": "markdown",
   "id": "269634c5",
   "metadata": {},
   "source": [
    "# Data Collection and preprocessing"
   ]
  },
  {
   "cell_type": "markdown",
   "id": "5ea22282",
   "metadata": {},
   "source": [
    "## Setup"
   ]
  },
  {
   "cell_type": "code",
   "execution_count": 2,
   "id": "357649af",
   "metadata": {},
   "outputs": [],
   "source": [
    "%load_ext autoreload\n",
    "%autoreload 2"
   ]
  },
  {
   "cell_type": "code",
   "execution_count": 1,
   "id": "b6843bc6",
   "metadata": {},
   "outputs": [],
   "source": [
    "import sys\n",
    "from pathlib import Path\n",
    "import geopandas as gpd\n",
    "\n",
    "# Add the project root to the Python path to import the modules\n",
    "project_root = Path().absolute().parent\n",
    "sys.path.append(str(project_root))"
   ]
  },
  {
   "cell_type": "code",
   "execution_count": 3,
   "id": "ceceef1b",
   "metadata": {},
   "outputs": [
    {
     "name": "stdout",
     "output_type": "stream",
     "text": [
      "POLYGON ((34.45033358953366 31.48755359582277, 34.47444640417723 31.51433358953367, 34.44766641046633 31.538446404177233, 34.42355359582277 31.511666410466333, 34.45033358953366 31.48755359582277))\n"
     ]
    }
   ],
   "source": [
    "from utils.geography_helpers import create_rotated_square_aoi\n",
    "\n",
    "# Set bounding box for the area of interest (AOI)\n",
    "create_rotated_square_aoi(\n",
    "    lat=31.513,\n",
    "    lon=34.449,\n",
    "    size_km=4,\n",
    "    angle_deg=48, \n",
    "    filename=\"../utils/AOI_bboxes/aoi_shifa.geojson\"\n",
    ")\n",
    "\n",
    "gdf = gpd.read_file(\"../utils/AOI_bboxes/aoi_shifa.geojson\")\n",
    "print(gdf.geometry[0].wkt)"
   ]
  },
  {
   "cell_type": "markdown",
   "id": "decbe8ea",
   "metadata": {},
   "source": [
    "## A/ Sentinel-1 data"
   ]
  },
  {
   "cell_type": "markdown",
   "id": "d860e1d2",
   "metadata": {},
   "source": [
    "\n",
    "The idea here is to download 10 pre-conflict (reference) and 6 post-conflict (post) images of Sentinel-1 (GRD-HD; Polarization: VV+VH).\n",
    "\n",
    "The images will be distinguished depending on the orbit: Ascending and Descending.\n",
    "\n",
    "Here are the product names from [ASF Data Search Vertex](https://search.asf.alaska.edu):\n",
    "\n",
    "Reference images:\n",
    "S1A_IW_GRDH_1SDV_20230427T154057_20230427T154122_048284_05CE71_87D9 : 27 April 2023, ASCENDING (Orbit 87)\n",
    "S1A_IW_GRDH_1SDV_20230428T034428_20230428T034453_048291_05CEB1_527A : 28 April 2023, DESCENDING (Orbit 94)\n",
    "S1A_IW_GRDH_1SDV_20230509T154057_20230509T154122_048459_05D442_3CB6 : 9 May 2023, ASCENDING (Orbit 87)\n",
    "S1A_IW_GRDH_1SDV_20230510T034429_20230510T034454_048466_05D480_D2F1: 10 May 2023, DESCENDING (Orbit 94)\n",
    "S1A_IW_GRDH_1SDV_20230521T154058_20230521T154123_048634_05D970_718E: 21 May 2023, ASCENDING (Orbit 87)\n",
    "S1A_IW_GRDH_1SDV_20230522T034430_20230522T034455_048641_05D9AE_4C24: 22 May 2023, DESCENDING (Orbit 94)\n",
    "S1A_IW_GRDH_1SDV_20230602T154059_20230602T154124_048809_05DEA1_D36D: 2 June, 2023, ASCENDING (Orbit 87)\n",
    "S1A_IW_GRDH_1SDV_20230603T034430_20230603T034455_048816_05DEDF_69FD: 3 Juin, 2023, DESCENDING (Orbit 94)\n",
    "\n",
    "UNOSAT labels:\n",
    "3 May 2024\n",
    "\n",
    "Post- images (dates as close to labeling as possible to limit newly destroyed buildings with negative labels)\n",
    "S1A_IW_GRDH_1SDV_20240503T154102_20240503T154127_053709_068641_952F: 03 May 2024, ASCENDING (Orbit 87)\n",
    "S1A_IW_GRDH_1SDV_20240504T034434_20240504T034459_053716_06868A_1FEE: 04 May 2024, DESCENDING (Orbit 94)\n",
    "S1A_IW_GRDH_1SDV_20240515T154102_20240515T154127_053884_068C8C_2024: 15 May 2024, ASCENDING (Orbit 87)\n",
    "S1A_IW_GRDH_1SDV_20240516T034433_20240516T034458_053891_068CCC_19DD: 16 May 2024, DESCENDING (Orbit 94)\n",
    "S1A_IW_GRDH_1SDV_20240527T154102_20240527T154127_054059_0692A2_DF93: 27 May 2024, ASCENDING (Orbit 87)\n",
    "S1A_IW_GRDH_1SDV_20240528T034434_20240528T034459_054066_0692E4_E9D2: 28 May 2024, DESCENDING (Orbit 94)\n",
    "\n",
    "\n",
    "\n",
    "Each image will undergo and process of \n",
    "1. Subsetting: to only keep the area of interest in Gaza City\n",
    "2. Preprocessing:\n",
    "    - orbit correction\n",
    "    - border and thermal noise removal\n",
    "    - radiometric calibration\n",
    "    - terrain correction"
   ]
  },
  {
   "cell_type": "markdown",
   "id": "ae6327bf",
   "metadata": {},
   "source": [
    "The script that downloads one product (zip) is ran with:\n",
    "\n",
    "```console\n",
    "python scripts/download_single_sentinel_file.py <url>\n",
    "```\n",
    "\n",
    "The script that preprocessed the resulting zip is ran with:\n",
    "\n",
    "```console\n",
    "python preprocess_single_sentinel_zip.py <path/to/zipfile.zip> <path/to/aoi.geojson> <output_directory> <path/to/snap/gpt>\n",
    "```\n",
    "\n",
    "Both scripts have been combined in the `download_process_single_sentinel_file.py` script.\n",
    "\n",
    "For one URL, the downloading, preprocessing (and deletion of raw file) is done by running:\n",
    "\n",
    "```console\n",
    "cd scripts\n",
    "\n",
    "python download_process_single_sentinel_file.py <url.zip> ../utils/AOI_bboxes/aoi_shifa.geojson ../data/preprocessed/sentinel --snap_gpt_path /Applications/esa-snap/bin/gpt\n",
    "```\n",
    "\n",
    "For all the URLs, run the cells in `scripts/download_process_sentinel.ipynb`"
   ]
  },
  {
   "cell_type": "markdown",
   "id": "fc9cff74",
   "metadata": {},
   "source": [
    "## B/ UNOSAT labels"
   ]
  },
  {
   "cell_type": "markdown",
   "id": "4c060c43",
   "metadata": {},
   "source": [
    "The script in `scripts/download_footprints_UNOSAT` automates the data collection of:\n",
    "\n",
    "-  building footprings from [Ballinger (2024)](https://github.com/oballinger/PWTT/tree/main?tab=readme-ov-file)\n",
    "- building damage labels from [UNOSAT](https://unosat.org/products/4047).  \n",
    "\n",
    "```console\n",
    "python scripts/download_footprints_UNOSAT\n",
    "```\n",
    " will fetch the data online and save it to `data/raw`."
   ]
  },
  {
   "cell_type": "code",
   "execution_count": 35,
   "id": "7f6cee29",
   "metadata": {},
   "outputs": [
    {
     "name": "stdout",
     "output_type": "stream",
     "text": [
      "\n",
      "Layers in the GDB (5 layers):\n",
      "1. Damage_Sites_GazaStrip_20250225\n",
      "2. fras_aux_IDP_Sites_Template_FC\n",
      "3. fras_blk_IDP_Sites_Template_FC\n",
      "4. fras_bnd_IDP_Sites_Template_FC\n",
      "5. fras_ras_IDP_Sites_Template_FC\n",
      "Loading UNOSAT data from: /Users/matteolarrode/Documents/Oxford/Applied ML/Summative/ML-BuildingDamageViaSatellite/data/raw/labels/UNOSAT_GazaStrip_CDA_25February2025.gdb\n",
      "Loading layer: Damage_Sites_GazaStrip_20250225\n",
      "Loaded layer 'Damage_Sites_GazaStrip_20250225' with 173350 features\n",
      "Successfully loaded 173350 damage points\n",
      "\n",
      "Columns in the damage data:\n",
      " - SiteID\n",
      " - SensorDate\n",
      " - SensorID\n",
      " - ConfidenceID\n",
      " - Main_Damage_Site_Class\n",
      " - SensorDate_2\n",
      " - SensorID_2\n",
      " - ConfidenceID_2\n",
      " - Main_Damage_Site_Class_2\n",
      " - Damage_Status_2\n",
      " - SensorDate_3\n",
      " - SensorID_3\n",
      " - ConfidenceID_3\n",
      " - Main_Damage_Site_Class_3\n",
      " - Damage_Status_3\n",
      " - SensorDate_4\n",
      " - SensorID_4\n",
      " - ConfidenceID_4\n",
      " - Main_Damage_Site_Class_4\n",
      " - Damage_Status_4\n",
      " - SensorDate_5\n",
      " - SensorID_5\n",
      " - ConfidenceID_5\n",
      " - Main_Damage_Site_Class_5\n",
      " - Damage_Status_5\n",
      " - SensorDate_6\n",
      " - SensorID_6\n",
      " - ConfidenceID_6\n",
      " - Main_Damage_Site_Class_6\n",
      " - Damage_Status_6\n",
      " - SensorDate_7\n",
      " - SensorID_7\n",
      " - ConfidenceID_7\n",
      " - Main_Damage_Site_Class_7\n",
      " - Damage_Status_7\n",
      " - SensorDate_8\n",
      " - SensorID_8\n",
      " - ConfidenceID_8\n",
      " - Main_Damage_Site_Class_8\n",
      " - Damage_Status_8\n",
      " - SensorDate_9\n",
      " - SensorID_9\n",
      " - ConfidenceID_9\n",
      " - Main_Damage_Site_Class_9\n",
      " - Damage_Status_9\n",
      " - SensorDate_10\n",
      " - SensorID_10\n",
      " - ConfidenceID_10\n",
      " - Main_Damage_Site_Class_10\n",
      " - Damage_Status_10\n",
      " - SensorDate_11\n",
      " - SensorID_11\n",
      " - ConfidenceID_11\n",
      " - Main_Damage_Site_Class_11\n",
      " - Damage_Status_11\n",
      " - Grouped_Damage_Classes\n",
      " - FieldValidation\n",
      " - Notes\n",
      " - Territory\n",
      " - Governorate\n",
      " - Municipality\n",
      " - Neighborhood\n",
      " - EventCode\n",
      " - geometry\n",
      "\n",
      "Found 22 damage-related columns\n"
     ]
    }
   ],
   "source": [
    "from utils.preprocessing_UNOSAT_helpers import (\n",
    "    list_gdb_layers,\n",
    "    load_unosat_damage_sites,\n",
    "    process_unosat_damage_labels, \n",
    "    create_control_points\n",
    ")\n",
    "\n",
    "gdb_path = \"../data/raw/labels/UNOSAT_GazaStrip_CDA_25February2025.gdb\"\n",
    "layers = list_gdb_layers(gdb_path)\n",
    "layer_name = \"Damage_Sites_GazaStrip_20250225\"\n",
    "# output_path = \"../data/raw/labels/gaza_unosat_labels.geojson\"\n",
    "\n",
    "print(f\"\\nLayers in the GDB ({len(layers)} layers):\")\n",
    "for i, layer in enumerate(layers):\n",
    "    print(f\"{i+1}. {layer}\")\n",
    "\n",
    "# Load all layers\n",
    "damage_data = load_unosat_damage_sites()"
   ]
  },
  {
   "cell_type": "code",
   "execution_count": 34,
   "id": "ef0e4a58",
   "metadata": {},
   "outputs": [
    {
     "name": "stdout",
     "output_type": "stream",
     "text": [
      "Processing UNOSAT damage labels for date index 7...\n",
      "Found 136808 valid damage labels for date index 7\n",
      "Date: 2024-05-03 00:00:00+00:00\n",
      "Filtered from 136808 to 53507 points (keeping only Destroyed, Severe Damage, and No Visible Damage)\n",
      "Filtering by AOI: ../utils/AOI_bboxes/aoi_shifa.geojson\n",
      "Filtered from 53507 to 2966 points within the AOI\n",
      "Saved processed labels to ../data/processed/labels/damage_labels_20240503.gpkg\n",
      "Saved CSV version to ../data/processed/labels/damage_labels_20240503.csv\n",
      "\n",
      "Damage class distribution:\n",
      "  Destroyed: 1516 (51.1%)\n",
      "  Severe Damage: 1450 (48.9%)\n",
      "\n",
      "Total damaged structures: 2966 (100.0%)\n",
      "Total undamaged structures: 0 (0.0%)\n"
     ]
    }
   ],
   "source": [
    "# Process the damage labels for May 3, 2024 (date index 7)\n",
    "# Only keeping Destroyed and Severe Damage as positive examples\n",
    "damage_labels = process_unosat_damage_labels(\n",
    "    gdf=damage_data, \n",
    "    date_index=7,     # Index 7 corresponds to May 3, 2024\n",
    "    aoi_path=\"../utils/AOI_bboxes/aoi_shifa.geojson\",  # Your AOI\n",
    "    positive_classes=[1, 2],  # Only 1=Destroyed and 2=Severe Damage are positive\n",
    "    include_moderate=False    # Don't include moderate damage in the dataset\n",
    ")"
   ]
  },
  {
   "cell_type": "code",
   "execution_count": null,
   "id": "abc0db0f",
   "metadata": {},
   "outputs": [],
   "source": [
    "# Create negative control points\n",
    "control_points = create_control_points(\n",
    "    damage_labels, \n",
    "    aoi_path=\"../utils/AOI_bboxes/aoi_shifa.geojson\",\n",
    "    min_distance=100,  # 100m minimum distance from damage\n",
    "    num_points=len(damage_labels)  # Create same number as damage points\n",
    ")"
   ]
  },
  {
   "cell_type": "markdown",
   "id": "c91f6e2a",
   "metadata": {},
   "source": [
    "## C/ Building footprints"
   ]
  },
  {
   "cell_type": "markdown",
   "id": "d046a07d",
   "metadata": {},
   "source": [
    "The script in `scripts/download_footprints_UNOSAT` automates the data collection of:\n",
    "\n",
    "-  building footprings from [Ballinger (2024)](https://github.com/oballinger/PWTT/tree/main?tab=readme-ov-file)\n",
    "- building damage labels from [UNOSAT](https://unosat.org/products/4047).  \n",
    "\n",
    "```console\n",
    "python scripts/download_footprints_UNOSAT\n",
    "```\n",
    " will fetch the data online and save it to `data/raw`."
   ]
  }
 ],
 "metadata": {
  "kernelspec": {
   "display_name": "ML-summative",
   "language": "python",
   "name": "python3"
  },
  "language_info": {
   "codemirror_mode": {
    "name": "ipython",
    "version": 3
   },
   "file_extension": ".py",
   "mimetype": "text/x-python",
   "name": "python",
   "nbconvert_exporter": "python",
   "pygments_lexer": "ipython3",
   "version": "3.10.13"
  }
 },
 "nbformat": 4,
 "nbformat_minor": 5
}
