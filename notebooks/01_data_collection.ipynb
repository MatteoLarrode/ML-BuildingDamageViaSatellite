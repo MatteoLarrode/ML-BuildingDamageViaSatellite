{
 "cells": [
  {
   "cell_type": "markdown",
   "id": "269634c5",
   "metadata": {},
   "source": [
    "# Data Collection and preprocessing"
   ]
  },
  {
   "cell_type": "markdown",
   "id": "5ea22282",
   "metadata": {},
   "source": [
    "## Setup"
   ]
  },
  {
   "cell_type": "code",
   "execution_count": 2,
   "id": "357649af",
   "metadata": {},
   "outputs": [],
   "source": [
    "%load_ext autoreload\n",
    "%autoreload 2"
   ]
  },
  {
   "cell_type": "code",
   "execution_count": 1,
   "id": "b6843bc6",
   "metadata": {},
   "outputs": [],
   "source": [
    "import sys\n",
    "from pathlib import Path\n",
    "import geopandas as gpd\n",
    "\n",
    "# Add the project root to the Python path to import the modules\n",
    "project_root = Path().absolute().parent\n",
    "sys.path.append(str(project_root))"
   ]
  },
  {
   "cell_type": "code",
   "execution_count": 3,
   "id": "ceceef1b",
   "metadata": {},
   "outputs": [
    {
     "name": "stdout",
     "output_type": "stream",
     "text": [
      "POLYGON ((34.45033358953366 31.48755359582277, 34.47444640417723 31.51433358953367, 34.44766641046633 31.538446404177233, 34.42355359582277 31.511666410466333, 34.45033358953366 31.48755359582277))\n"
     ]
    }
   ],
   "source": [
    "from utils.geography_helpers import create_rotated_square_aoi\n",
    "\n",
    "# Set bounding box for the area of interest (AOI)\n",
    "create_rotated_square_aoi(\n",
    "    lat=31.513,\n",
    "    lon=34.449,\n",
    "    size_km=4,\n",
    "    angle_deg=48, \n",
    "    filename=\"../utils/AOI_bboxes/aoi_shifa.geojson\"\n",
    ")\n",
    "\n",
    "gdf = gpd.read_file(\"../utils/AOI_bboxes/aoi_shifa.geojson\")\n",
    "print(gdf.geometry[0].wkt)"
   ]
  },
  {
   "cell_type": "markdown",
   "id": "decbe8ea",
   "metadata": {},
   "source": [
    "## A/ Sentinel-1 data"
   ]
  },
  {
   "cell_type": "markdown",
   "id": "d860e1d2",
   "metadata": {},
   "source": [
    "\n",
    "The idea here is to download 10 pre-conflict (reference) and 6 post-conflict (post) images of Sentinel-1 (GRD-HD; Polarization: VV+VH).\n",
    "\n",
    "The images will be distinguished depending on the orbit: Ascending and Descending.\n",
    "\n",
    "Here are the product names from [ASF Data Search Vertex](https://search.asf.alaska.edu):\n",
    "\n",
    "Reference images:\n",
    "S1A_IW_GRDH_1SDV_20230427T154057_20230427T154122_048284_05CE71_87D9 : 27 April 2023, ASCENDING (Orbit 87)\n",
    "S1A_IW_GRDH_1SDV_20230428T034428_20230428T034453_048291_05CEB1_527A : 28 April 2023, DESCENDING (Orbit 94)\n",
    "S1A_IW_GRDH_1SDV_20230509T154057_20230509T154122_048459_05D442_3CB6 : 9 May 2023, ASCENDING (Orbit 87)\n",
    "S1A_IW_GRDH_1SDV_20230510T034429_20230510T034454_048466_05D480_D2F1: 10 May 2023, DESCENDING (Orbit 94)\n",
    "S1A_IW_GRDH_1SDV_20230521T154058_20230521T154123_048634_05D970_718E: 21 May 2023, ASCENDING (Orbit 87)\n",
    "S1A_IW_GRDH_1SDV_20230522T034430_20230522T034455_048641_05D9AE_4C24: 22 May 2023, DESCENDING (Orbit 94)\n",
    "S1A_IW_GRDH_1SDV_20230602T154059_20230602T154124_048809_05DEA1_D36D: 2 June, 2023, ASCENDING (Orbit 87)\n",
    "S1A_IW_GRDH_1SDV_20230603T034430_20230603T034455_048816_05DEDF_69FD: 3 Juin, 2023, DESCENDING (Orbit 94)\n",
    "\n",
    "UNOSAT labels:\n",
    "3 May 2024\n",
    "\n",
    "Post- images (dates as close to labeling as possible to limit newly destroyed buildings with negative labels)\n",
    "S1A_IW_GRDH_1SDV_20240503T154102_20240503T154127_053709_068641_952F: 03 May 2024, ASCENDING (Orbit 87)\n",
    "S1A_IW_GRDH_1SDV_20240504T034434_20240504T034459_053716_06868A_1FEE: 04 May 2024, DESCENDING (Orbit 94)\n",
    "S1A_IW_GRDH_1SDV_20240515T154102_20240515T154127_053884_068C8C_2024: 15 May 2024, ASCENDING (Orbit 87)\n",
    "S1A_IW_GRDH_1SDV_20240516T034433_20240516T034458_053891_068CCC_19DD: 16 May 2024, DESCENDING (Orbit 94)\n",
    "S1A_IW_GRDH_1SDV_20240527T154102_20240527T154127_054059_0692A2_DF93: 27 May 2024, ASCENDING (Orbit 87)\n",
    "S1A_IW_GRDH_1SDV_20240528T034434_20240528T034459_054066_0692E4_E9D2: 28 May 2024, DESCENDING (Orbit 94)\n",
    "\n",
    "\n",
    "\n",
    "Each image will undergo and process of \n",
    "1. Subsetting: to only keep the area of interest in Gaza City\n",
    "2. Preprocessing:\n",
    "    - orbit correction\n",
    "    - border and thermal noise removal\n",
    "    - radiometric calibration\n",
    "    - terrain correction"
   ]
  },
  {
   "cell_type": "markdown",
   "id": "ae6327bf",
   "metadata": {},
   "source": [
    "The script that downloads one product (zip) is ran with:\n",
    "\n",
    "```console\n",
    "python scripts/download_single_sentinel_file.py <url>\n",
    "```\n",
    "\n",
    "The script that preprocessed the resulting zip is ran with:\n",
    "\n",
    "```console\n",
    "python preprocess_single_sentinel_zip.py <path/to/zipfile.zip> <path/to/aoi.geojson> <output_directory> <path/to/snap/gpt>\n",
    "```\n",
    "\n",
    "Both scripts have been combined in the `download_process_single_sentinel_file.py` script.\n",
    "\n",
    "For one URL, the downloading, preprocessing (and deletion of raw file) is done by running:\n",
    "\n",
    "```console\n",
    "cd scripts\n",
    "\n",
    "python download_process_single_sentinel_file.py <url.zip> ../utils/AOI_bboxes/aoi_shifa.geojson ../data/preprocessed/sentinel --snap_gpt_path /Applications/esa-snap/bin/gpt\n",
    "```\n",
    "\n",
    "For all the URLs, run the cells in `scripts/download_process_sentinel.ipynb`"
   ]
  },
  {
   "cell_type": "markdown",
   "id": "fc9cff74",
   "metadata": {},
   "source": [
    "## B/ UNOSAT labels"
   ]
  },
  {
   "cell_type": "markdown",
   "id": "4c060c43",
   "metadata": {},
   "source": [
    "The script in `scripts/download_footprints_UNOSAT` automates the data collection of:\n",
    "\n",
    "-  building footprings from [Ballinger (2024)](https://github.com/oballinger/PWTT/tree/main?tab=readme-ov-file)\n",
    "- building damage labels from [UNOSAT](https://unosat.org/products/4047).  \n",
    "\n",
    "```console\n",
    "python scripts/download_footprints_UNOSAT\n",
    "```\n",
    " will fetch the data online and save it to `data/raw`."
   ]
  },
  {
   "cell_type": "code",
   "execution_count": 20,
   "id": "7f6cee29",
   "metadata": {},
   "outputs": [
    {
     "name": "stdout",
     "output_type": "stream",
     "text": [
      "\n",
      "Layers in the GDB (5 layers):\n",
      "1. Damage_Sites_GazaStrip_20250225\n",
      "2. fras_aux_IDP_Sites_Template_FC\n",
      "3. fras_blk_IDP_Sites_Template_FC\n",
      "4. fras_bnd_IDP_Sites_Template_FC\n",
      "5. fras_ras_IDP_Sites_Template_FC\n",
      "UNOSAT data directory not found: /Users/matteolarrode/Documents/Oxford/Applied ML/Summative/data/raw/labels/unosat\n"
     ]
    }
   ],
   "source": [
    "from utils.preprocessing_UNOSAT_helpers import (\n",
    "    list_gdb_layers,\n",
    "    load_all_unosat_damage_sites,\n",
    "    process_unosat_damage_labels, \n",
    "    visualize_damage_labels,\n",
    "    integrate_unosat_with_backscatter\n",
    ")\n",
    "\n",
    "gdb_path = \"../data/raw/labels/UNOSAT_GazaStrip_CDA_25February2025.gdb\"\n",
    "layers = list_gdb_layers(gdb_path)\n",
    "layer_name = \"Damage_Sites_GazaStrip_20250225\"\n",
    "# output_path = \"../data/raw/labels/gaza_unosat_labels.geojson\"\n",
    "\n",
    "print(f\"\\nLayers in the GDB ({len(layers)} layers):\")\n",
    "for i, layer in enumerate(layers):\n",
    "    print(f\"{i+1}. {layer}\")\n",
    "\n",
    "# Load all layers\n",
    "damage_data = load_all_unosat_damage_sites()"
   ]
  },
  {
   "cell_type": "code",
   "execution_count": 21,
   "id": "ef0e4a58",
   "metadata": {},
   "outputs": [
    {
     "name": "stdout",
     "output_type": "stream",
     "text": [
      "Processing UNOSAT damage labels for date index 7...\n"
     ]
    },
    {
     "ename": "KeyError",
     "evalue": "'Main_Damage_Site_Class_7'",
     "output_type": "error",
     "traceback": [
      "\u001b[0;31m---------------------------------------------------------------------------\u001b[0m",
      "\u001b[0;31mKeyError\u001b[0m                                  Traceback (most recent call last)",
      "Cell \u001b[0;32mIn[21], line 2\u001b[0m\n\u001b[1;32m      1\u001b[0m \u001b[38;5;66;03m# Process the damage labels for May 3, 2024 (date index 7)\u001b[39;00m\n\u001b[0;32m----> 2\u001b[0m damage_labels \u001b[38;5;241m=\u001b[39m \u001b[43mprocess_unosat_damage_labels\u001b[49m\u001b[43m(\u001b[49m\n\u001b[1;32m      3\u001b[0m \u001b[43m    \u001b[49m\u001b[43mgdf\u001b[49m\u001b[38;5;241;43m=\u001b[39;49m\u001b[43mdamage_data\u001b[49m\u001b[43m,\u001b[49m\u001b[43m \u001b[49m\n\u001b[1;32m      4\u001b[0m \u001b[43m    \u001b[49m\u001b[43mdate_index\u001b[49m\u001b[38;5;241;43m=\u001b[39;49m\u001b[38;5;241;43m7\u001b[39;49m\u001b[43m,\u001b[49m\u001b[43m     \u001b[49m\u001b[38;5;66;43;03m# Index 7 corresponds to May 3, 2024\u001b[39;49;00m\n\u001b[1;32m      5\u001b[0m \u001b[43m    \u001b[49m\u001b[43maoi_path\u001b[49m\u001b[38;5;241;43m=\u001b[39;49m\u001b[38;5;124;43m\"\u001b[39;49m\u001b[38;5;124;43m../utils/AOI_bboxes/aoi_shifa.geojson\u001b[39;49m\u001b[38;5;124;43m\"\u001b[39;49m\u001b[43m  \u001b[49m\u001b[38;5;66;43;03m# AOI\u001b[39;49;00m\n\u001b[1;32m      6\u001b[0m \u001b[43m)\u001b[49m\n",
      "File \u001b[0;32m~/Documents/Oxford/Applied ML/Summative/ML-BuildingDamageViaSatellite/utils/preprocessing_UNOSAT_helpers.py:243\u001b[0m, in \u001b[0;36mprocess_unosat_damage_labels\u001b[0;34m(gdf, date_index, aoi_path, output_dir)\u001b[0m\n\u001b[1;32m    240\u001b[0m damage_status_col \u001b[38;5;241m=\u001b[39m \u001b[38;5;124mf\u001b[39m\u001b[38;5;124m\"\u001b[39m\u001b[38;5;124mDamage_Status_\u001b[39m\u001b[38;5;132;01m{\u001b[39;00mdate_index\u001b[38;5;132;01m}\u001b[39;00m\u001b[38;5;124m\"\u001b[39m\n\u001b[1;32m    242\u001b[0m \u001b[38;5;66;03m# Filter to rows that have data for this date index\u001b[39;00m\n\u001b[0;32m--> 243\u001b[0m valid_mask \u001b[38;5;241m=\u001b[39m \u001b[38;5;241m~\u001b[39m\u001b[43mdamage_labels\u001b[49m\u001b[43m[\u001b[49m\u001b[43mdamage_class_col\u001b[49m\u001b[43m]\u001b[49m\u001b[38;5;241m.\u001b[39misna()\n\u001b[1;32m    244\u001b[0m valid_labels \u001b[38;5;241m=\u001b[39m damage_labels[valid_mask]\u001b[38;5;241m.\u001b[39mcopy()\n\u001b[1;32m    246\u001b[0m \u001b[38;5;28mprint\u001b[39m(\u001b[38;5;124mf\u001b[39m\u001b[38;5;124m\"\u001b[39m\u001b[38;5;124mFound \u001b[39m\u001b[38;5;132;01m{\u001b[39;00m\u001b[38;5;28mlen\u001b[39m(valid_labels)\u001b[38;5;132;01m}\u001b[39;00m\u001b[38;5;124m valid damage labels for date index \u001b[39m\u001b[38;5;132;01m{\u001b[39;00mdate_index\u001b[38;5;132;01m}\u001b[39;00m\u001b[38;5;124m\"\u001b[39m)\n",
      "\u001b[0;31mKeyError\u001b[0m: 'Main_Damage_Site_Class_7'"
     ]
    }
   ],
   "source": [
    "# Process the damage labels for May 3, 2024 (date index 7)\n",
    "damage_labels = process_unosat_damage_labels(\n",
    "    gdf=damage_data, \n",
    "    date_index=7,     # Index 7 corresponds to May 3, 2024\n",
    "    aoi_path=\"../utils/AOI_bboxes/aoi_shifa.geojson\"  # AOI\n",
    ")"
   ]
  },
  {
   "cell_type": "markdown",
   "id": "c91f6e2a",
   "metadata": {},
   "source": [
    "## C/ Building footprints"
   ]
  },
  {
   "cell_type": "markdown",
   "id": "d046a07d",
   "metadata": {},
   "source": [
    "The script in `scripts/download_footprints_UNOSAT` automates the data collection of:\n",
    "\n",
    "-  building footprings from [Ballinger (2024)](https://github.com/oballinger/PWTT/tree/main?tab=readme-ov-file)\n",
    "- building damage labels from [UNOSAT](https://unosat.org/products/4047).  \n",
    "\n",
    "```console\n",
    "python scripts/download_footprints_UNOSAT\n",
    "```\n",
    " will fetch the data online and save it to `data/raw`."
   ]
  }
 ],
 "metadata": {
  "kernelspec": {
   "display_name": "ML-summative",
   "language": "python",
   "name": "python3"
  },
  "language_info": {
   "codemirror_mode": {
    "name": "ipython",
    "version": 3
   },
   "file_extension": ".py",
   "mimetype": "text/x-python",
   "name": "python",
   "nbconvert_exporter": "python",
   "pygments_lexer": "ipython3",
   "version": "3.10.13"
  }
 },
 "nbformat": 4,
 "nbformat_minor": 5
}
