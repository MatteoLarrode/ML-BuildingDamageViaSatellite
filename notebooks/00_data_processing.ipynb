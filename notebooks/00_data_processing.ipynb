{
 "cells": [
  {
   "cell_type": "markdown",
   "id": "269634c5",
   "metadata": {},
   "source": [
    "# Applied ML War Building Damage - Data Processing\n",
    "\n",
    "Matteo Larrode, MSc Social Data Science \n",
    "\n",
    "Oxford Internet Institute, University of Oxford"
   ]
  },
  {
   "cell_type": "markdown",
   "id": "5ea22282",
   "metadata": {},
   "source": [
    "## Setup"
   ]
  },
  {
   "cell_type": "code",
   "execution_count": 1,
   "id": "357649af",
   "metadata": {},
   "outputs": [],
   "source": [
    "%load_ext autoreload\n",
    "%autoreload 2"
   ]
  },
  {
   "cell_type": "code",
   "execution_count": 2,
   "id": "b6843bc6",
   "metadata": {},
   "outputs": [],
   "source": [
    "import sys\n",
    "from pathlib import Path\n",
    "\n",
    "# Add the project root to the Python path to import the modules\n",
    "project_root = Path().absolute().parent\n",
    "sys.path.append(str(project_root))\n",
    "\n",
    "from src.data.preprocess import gdb_to_geojson"
   ]
  },
  {
   "cell_type": "markdown",
   "id": "f08d2924",
   "metadata": {},
   "source": [
    "## Process UNOSAT labels"
   ]
  },
  {
   "cell_type": "code",
   "execution_count": 4,
   "id": "7f6cee29",
   "metadata": {},
   "outputs": [
    {
     "name": "stdout",
     "output_type": "stream",
     "text": [
      "Successfully converted to GeoJSON with 1267718 features\n"
     ]
    }
   ],
   "source": [
    "gdb_path = \"../data/raw/labels/unosat/25_02_2025/UNOSAT_GazaStrip_CDA_25February2025.gdb\"\n",
    "layer_name = \"Damage_Sites_GazaStrip_20250225\"\n",
    "output_path = \"../data/raw/labels/unosat/gaza_unosat_labels.geojson\"\n",
    "\n",
    "geojson_data = gdb_to_geojson(gdb_path, layer_name, output_path)"
   ]
  }
 ],
 "metadata": {
  "kernelspec": {
   "display_name": "ML-summative",
   "language": "python",
   "name": "python3"
  },
  "language_info": {
   "codemirror_mode": {
    "name": "ipython",
    "version": 3
   },
   "file_extension": ".py",
   "mimetype": "text/x-python",
   "name": "python",
   "nbconvert_exporter": "python",
   "pygments_lexer": "ipython3",
   "version": "3.10.13"
  }
 },
 "nbformat": 4,
 "nbformat_minor": 5
}
